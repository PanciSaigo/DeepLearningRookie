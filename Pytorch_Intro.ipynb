{
  "nbformat": 4,
  "nbformat_minor": 0,
  "metadata": {
    "colab": {
      "provenance": [],
      "authorship_tag": "ABX9TyOiHJ5Haj/Ah2ZSe30tI6no",
      "include_colab_link": true
    },
    "kernelspec": {
      "name": "python3",
      "display_name": "Python 3"
    },
    "language_info": {
      "name": "python"
    }
  },
  "cells": [
    {
      "cell_type": "markdown",
      "metadata": {
        "id": "view-in-github",
        "colab_type": "text"
      },
      "source": [
        "<a href=\"https://colab.research.google.com/github/PanciSaigo/PytorchRookie/blob/main/Pytorch_Intro.ipynb\" target=\"_parent\"><img src=\"https://colab.research.google.com/assets/colab-badge.svg\" alt=\"Open In Colab\"/></a>"
      ]
    },
    {
      "cell_type": "markdown",
      "source": [
        "https://www.youtube.com/watch?v=kY14KfZQ1TI&list=PLCC34OHNcOtpcgR9LEYSdi9r7XIbpkpK1&index=1"
      ],
      "metadata": {
        "id": "7ebRDVCCrNED"
      }
    },
    {
      "cell_type": "code",
      "execution_count": 71,
      "metadata": {
        "id": "TVrjhpbPUWqB"
      },
      "outputs": [],
      "source": [
        "import torch\n"
      ]
    },
    {
      "cell_type": "code",
      "source": [
        "pip list"
      ],
      "metadata": {
        "id": "CWg9MbHwUbBh"
      },
      "execution_count": null,
      "outputs": []
    },
    {
      "cell_type": "markdown",
      "source": [
        "# TENSORS\n",
        "*   A torch. Tensor is a multi-dimensional matrix containing elements of a single data type.\n",
        "\n",
        "*   Similar To Numpy Arrays, but full of fun things that make them work better on GPU's (vs regular CPU's).\n",
        "\n",
        "*   default data type of float32.\n",
        "*   More suitable for deep learning than a numpy array."
      ],
      "metadata": {
        "id": "WmUgXbcjW-bR"
      }
    },
    {
      "cell_type": "code",
      "source": [
        "import torch\n",
        "import numpy as np"
      ],
      "metadata": {
        "id": "n_8Zx_6OU5VH"
      },
      "execution_count": 73,
      "outputs": []
    },
    {
      "cell_type": "markdown",
      "source": [
        "# LIST"
      ],
      "metadata": {
        "id": "3CG8hp3DZjFM"
      }
    },
    {
      "cell_type": "code",
      "source": [
        "my_list = [1,2,3]\n",
        "my_multiDimensionalArray = [[1,2,3,4,5],[1,2,3,4,5]]\n",
        "my_list\n",
        "my_multiDimensionalArray\n"
      ],
      "metadata": {
        "colab": {
          "base_uri": "https://localhost:8080/"
        },
        "id": "xnDIv9scZloO",
        "outputId": "2b4e0a12-56ca-4b56-e4c2-67707a7bce0c"
      },
      "execution_count": 74,
      "outputs": [
        {
          "output_type": "execute_result",
          "data": {
            "text/plain": [
              "[[1, 2, 3, 4, 5], [1, 2, 3, 4, 5]]"
            ]
          },
          "metadata": {},
          "execution_count": 74
        }
      ]
    },
    {
      "cell_type": "markdown",
      "source": [
        "# Numpy Array"
      ],
      "metadata": {
        "id": "NhebdhlZasNK"
      }
    },
    {
      "cell_type": "code",
      "source": [
        "np1 = np.random.rand(3,4)\n",
        "np1\n",
        "\n"
      ],
      "metadata": {
        "colab": {
          "base_uri": "https://localhost:8080/"
        },
        "id": "aCNbZ_B8avdE",
        "outputId": "6138fd76-ab76-4789-9842-c616a51be5b3"
      },
      "execution_count": 75,
      "outputs": [
        {
          "output_type": "execute_result",
          "data": {
            "text/plain": [
              "array([[0.4921762 , 0.5266006 , 0.10149139, 0.30792098],\n",
              "       [0.87667697, 0.08424807, 0.76000895, 0.25688585],\n",
              "       [0.50487025, 0.91676706, 0.68018787, 0.38425084]])"
            ]
          },
          "metadata": {},
          "execution_count": 75
        }
      ]
    },
    {
      "cell_type": "code",
      "source": [
        "\n",
        "np1.dtype"
      ],
      "metadata": {
        "colab": {
          "base_uri": "https://localhost:8080/"
        },
        "id": "Ekwlsjxq3GXd",
        "outputId": "47eabf0a-e6af-4ea8-a20b-a8b29029f576"
      },
      "execution_count": 76,
      "outputs": [
        {
          "output_type": "execute_result",
          "data": {
            "text/plain": [
              "dtype('float64')"
            ]
          },
          "metadata": {},
          "execution_count": 76
        }
      ]
    },
    {
      "cell_type": "code",
      "source": [
        "tensor_2d = torch.randn(3,4)\n",
        "tensor_2d"
      ],
      "metadata": {
        "colab": {
          "base_uri": "https://localhost:8080/"
        },
        "id": "logrmg-83H84",
        "outputId": "94f1d816-2da1-49d1-fb0a-5a1ca8199738"
      },
      "execution_count": 77,
      "outputs": [
        {
          "output_type": "execute_result",
          "data": {
            "text/plain": [
              "tensor([[ 0.0658, -0.3724,  2.4564, -0.1303],\n",
              "        [-0.1565,  1.0214, -0.6440, -2.8540],\n",
              "        [-0.2684,  0.8909,  0.0639,  2.4797]])"
            ]
          },
          "metadata": {},
          "execution_count": 77
        }
      ]
    },
    {
      "cell_type": "code",
      "source": [
        "tensor_3d  = torch.zeros(2,3,4)\n",
        "tensor_3d"
      ],
      "metadata": {
        "colab": {
          "base_uri": "https://localhost:8080/"
        },
        "id": "miRXmsN03bBQ",
        "outputId": "26113e46-38e6-496a-e3e3-f51cdcb56bc5"
      },
      "execution_count": 78,
      "outputs": [
        {
          "output_type": "execute_result",
          "data": {
            "text/plain": [
              "tensor([[[0., 0., 0., 0.],\n",
              "         [0., 0., 0., 0.],\n",
              "         [0., 0., 0., 0.]],\n",
              "\n",
              "        [[0., 0., 0., 0.],\n",
              "         [0., 0., 0., 0.],\n",
              "         [0., 0., 0., 0.]]])"
            ]
          },
          "metadata": {},
          "execution_count": 78
        }
      ]
    },
    {
      "cell_type": "code",
      "source": [
        "##crete tensor out of numpy array\n",
        "my_tensor = torch.tensor(np1)\n",
        "my_tensor\n"
      ],
      "metadata": {
        "colab": {
          "base_uri": "https://localhost:8080/"
        },
        "id": "h6iRmr3e3pDg",
        "outputId": "1a0efb37-4cae-4b3e-e926-0d1a992fd9f5"
      },
      "execution_count": 79,
      "outputs": [
        {
          "output_type": "execute_result",
          "data": {
            "text/plain": [
              "tensor([[0.4922, 0.5266, 0.1015, 0.3079],\n",
              "        [0.8767, 0.0842, 0.7600, 0.2569],\n",
              "        [0.5049, 0.9168, 0.6802, 0.3843]], dtype=torch.float64)"
            ]
          },
          "metadata": {},
          "execution_count": 79
        }
      ]
    },
    {
      "cell_type": "markdown",
      "source": [
        "# Tensor Operation"
      ],
      "metadata": {
        "id": "qIlPmsWZ5R3k"
      }
    },
    {
      "cell_type": "code",
      "source": [
        "my_torch = torch.arange(10)\n",
        "my_torch"
      ],
      "metadata": {
        "colab": {
          "base_uri": "https://localhost:8080/"
        },
        "id": "MrzRGgz55ROS",
        "outputId": "c44fa5ea-f17d-49ce-a94c-3a68511ba934"
      },
      "execution_count": 80,
      "outputs": [
        {
          "output_type": "execute_result",
          "data": {
            "text/plain": [
              "tensor([0, 1, 2, 3, 4, 5, 6, 7, 8, 9])"
            ]
          },
          "metadata": {},
          "execution_count": 80
        }
      ]
    },
    {
      "cell_type": "markdown",
      "source": [
        "**Reshape and View**"
      ],
      "metadata": {
        "id": "Gr0svrid5oo3"
      }
    },
    {
      "cell_type": "code",
      "source": [
        "#reshape and view\n",
        "my_torch = my_torch.reshape(2,5)\n",
        "my_torch"
      ],
      "metadata": {
        "colab": {
          "base_uri": "https://localhost:8080/"
        },
        "id": "wJIWFVXr5oHj",
        "outputId": "ba73ff49-1576-4d2b-e661-a60dbf86f3ee"
      },
      "execution_count": 81,
      "outputs": [
        {
          "output_type": "execute_result",
          "data": {
            "text/plain": [
              "tensor([[0, 1, 2, 3, 4],\n",
              "        [5, 6, 7, 8, 9]])"
            ]
          },
          "metadata": {},
          "execution_count": 81
        }
      ]
    },
    {
      "cell_type": "code",
      "source": [
        "#reshape if we don't know the number of items using -1\n",
        "my_torch2 = torch.arange(10)\n",
        "my_torch3 = torch.arange(15)\n",
        "my_torch2"
      ],
      "metadata": {
        "colab": {
          "base_uri": "https://localhost:8080/"
        },
        "id": "r6UsvABq54OB",
        "outputId": "a465efd0-e7d7-4539-8b2e-7d69a6cf2b2b"
      },
      "execution_count": 82,
      "outputs": [
        {
          "output_type": "execute_result",
          "data": {
            "text/plain": [
              "tensor([0, 1, 2, 3, 4, 5, 6, 7, 8, 9])"
            ]
          },
          "metadata": {},
          "execution_count": 82
        }
      ]
    },
    {
      "cell_type": "code",
      "source": [
        "my_torch2 = my_torch2.reshape(2,-1)\n",
        "my_torch2\n",
        "# attention the number of items with reshape need to be perfectely divided by reshaped request number ex: 15 items reshape in 3 is ok but in 2 is impossible"
      ],
      "metadata": {
        "colab": {
          "base_uri": "https://localhost:8080/"
        },
        "id": "_zgF12oT6Hra",
        "outputId": "f4e790b2-8f5d-42dc-fddf-d8adb516c660"
      },
      "execution_count": 83,
      "outputs": [
        {
          "output_type": "execute_result",
          "data": {
            "text/plain": [
              "tensor([[0, 1, 2, 3, 4],\n",
              "        [5, 6, 7, 8, 9]])"
            ]
          },
          "metadata": {},
          "execution_count": 83
        }
      ]
    },
    {
      "cell_type": "code",
      "source": [
        "my_torch3 = my_torch3.reshape(-1,5)\n",
        "my_torch3"
      ],
      "metadata": {
        "colab": {
          "base_uri": "https://localhost:8080/"
        },
        "id": "Qg3SAClS68u_",
        "outputId": "33ee431a-5d83-4a76-d0a1-2089f13e2d0e"
      },
      "execution_count": 84,
      "outputs": [
        {
          "output_type": "execute_result",
          "data": {
            "text/plain": [
              "tensor([[ 0,  1,  2,  3,  4],\n",
              "        [ 5,  6,  7,  8,  9],\n",
              "        [10, 11, 12, 13, 14]])"
            ]
          },
          "metadata": {},
          "execution_count": 84
        }
      ]
    },
    {
      "cell_type": "code",
      "source": [
        "#using view\n",
        "my_torch4 = my_torch3.view(3,5)\n",
        "my_torch4"
      ],
      "metadata": {
        "colab": {
          "base_uri": "https://localhost:8080/"
        },
        "id": "8xt08eiZ7aRU",
        "outputId": "351153b9-de5a-4c58-f07f-d1438b3344d8"
      },
      "execution_count": 85,
      "outputs": [
        {
          "output_type": "execute_result",
          "data": {
            "text/plain": [
              "tensor([[ 0,  1,  2,  3,  4],\n",
              "        [ 5,  6,  7,  8,  9],\n",
              "        [10, 11, 12, 13, 14]])"
            ]
          },
          "metadata": {},
          "execution_count": 85
        }
      ]
    },
    {
      "cell_type": "code",
      "source": [
        "#differences betweeen reshape and view in pytorch\n",
        "#https://stackoverflow.com/questions/49643225/whats-the-difference-between-reshape-and-view-in-pytorch\n"
      ],
      "metadata": {
        "id": "-C6bEwmn7mvg"
      },
      "execution_count": 86,
      "outputs": []
    },
    {
      "cell_type": "code",
      "source": [
        "#with reshape and view they will update\n",
        "my_torch5 = torch.arange(10)\n",
        "my_torch5"
      ],
      "metadata": {
        "colab": {
          "base_uri": "https://localhost:8080/"
        },
        "id": "wCtcKQy_8JNE",
        "outputId": "533f57dd-4e28-4255-bf6a-9da89c88bc1e"
      },
      "execution_count": 87,
      "outputs": [
        {
          "output_type": "execute_result",
          "data": {
            "text/plain": [
              "tensor([0, 1, 2, 3, 4, 5, 6, 7, 8, 9])"
            ]
          },
          "metadata": {},
          "execution_count": 87
        }
      ]
    },
    {
      "cell_type": "code",
      "source": [
        "my_torch6 = my_torch5.reshape(2,5)\n",
        "my_torch6"
      ],
      "metadata": {
        "colab": {
          "base_uri": "https://localhost:8080/"
        },
        "id": "2QrCrAaN9Nh6",
        "outputId": "6f105afe-60fb-48fb-94af-a997e3cf6519"
      },
      "execution_count": 88,
      "outputs": [
        {
          "output_type": "execute_result",
          "data": {
            "text/plain": [
              "tensor([[0, 1, 2, 3, 4],\n",
              "        [5, 6, 7, 8, 9]])"
            ]
          },
          "metadata": {},
          "execution_count": 88
        }
      ]
    },
    {
      "cell_type": "code",
      "source": [
        "#changing the my_torch5[1]\n",
        "my_torch5[1] = 4141\n",
        "my_torch5"
      ],
      "metadata": {
        "colab": {
          "base_uri": "https://localhost:8080/"
        },
        "id": "EUmRChSn8sJK",
        "outputId": "8455f5a2-aaf8-4b33-cf7c-4dba90046fac"
      },
      "execution_count": 89,
      "outputs": [
        {
          "output_type": "execute_result",
          "data": {
            "text/plain": [
              "tensor([   0, 4141,    2,    3,    4,    5,    6,    7,    8,    9])"
            ]
          },
          "metadata": {},
          "execution_count": 89
        }
      ]
    },
    {
      "cell_type": "code",
      "source": [
        "#updated!\n",
        "my_torch6"
      ],
      "metadata": {
        "colab": {
          "base_uri": "https://localhost:8080/"
        },
        "id": "bobKPMHx9BG_",
        "outputId": "b43a9139-1aef-465a-fad8-a0a0f6947c58"
      },
      "execution_count": 90,
      "outputs": [
        {
          "output_type": "execute_result",
          "data": {
            "text/plain": [
              "tensor([[   0, 4141,    2,    3,    4],\n",
              "        [   5,    6,    7,    8,    9]])"
            ]
          },
          "metadata": {},
          "execution_count": 90
        }
      ]
    },
    {
      "cell_type": "markdown",
      "source": [
        "**Slices**"
      ],
      "metadata": {
        "id": "d9JNMcBD-EXd"
      }
    },
    {
      "cell_type": "code",
      "source": [
        "my_torch7 = torch.arange(10)\n",
        "my_torch7"
      ],
      "metadata": {
        "colab": {
          "base_uri": "https://localhost:8080/"
        },
        "id": "zJoovOaP-IWV",
        "outputId": "1e305fed-3c26-4d6d-a6cf-0bc3d9019c0a"
      },
      "execution_count": 91,
      "outputs": [
        {
          "output_type": "execute_result",
          "data": {
            "text/plain": [
              "tensor([0, 1, 2, 3, 4, 5, 6, 7, 8, 9])"
            ]
          },
          "metadata": {},
          "execution_count": 91
        }
      ]
    },
    {
      "cell_type": "code",
      "source": [
        "#grab a specific item\n",
        "my_torch7[7]"
      ],
      "metadata": {
        "colab": {
          "base_uri": "https://localhost:8080/"
        },
        "id": "P3rHYkJW-q6Y",
        "outputId": "b863418f-11a5-4b69-b9fc-97d5c63f2740"
      },
      "execution_count": 92,
      "outputs": [
        {
          "output_type": "execute_result",
          "data": {
            "text/plain": [
              "tensor(7)"
            ]
          },
          "metadata": {},
          "execution_count": 92
        }
      ]
    },
    {
      "cell_type": "code",
      "source": [
        "#grab slice\n",
        "my_torch8 = my_torch7.reshape(5,2)\n",
        "my_torch8"
      ],
      "metadata": {
        "colab": {
          "base_uri": "https://localhost:8080/"
        },
        "id": "9OHf5Jv3-3JP",
        "outputId": "6e045320-3720-4b41-92d7-816ca5cadef1"
      },
      "execution_count": 93,
      "outputs": [
        {
          "output_type": "execute_result",
          "data": {
            "text/plain": [
              "tensor([[0, 1],\n",
              "        [2, 3],\n",
              "        [4, 5],\n",
              "        [6, 7],\n",
              "        [8, 9]])"
            ]
          },
          "metadata": {},
          "execution_count": 93
        }
      ]
    },
    {
      "cell_type": "code",
      "source": [
        "\n",
        "my_torch8[:,1]"
      ],
      "metadata": {
        "colab": {
          "base_uri": "https://localhost:8080/"
        },
        "id": "bxAehJl7_G-w",
        "outputId": "f3495ef5-4da9-41f7-d77c-9c90f030b952"
      },
      "execution_count": 94,
      "outputs": [
        {
          "output_type": "execute_result",
          "data": {
            "text/plain": [
              "tensor([1, 3, 5, 7, 9])"
            ]
          },
          "metadata": {},
          "execution_count": 94
        }
      ]
    },
    {
      "cell_type": "code",
      "source": [
        "# return column\n",
        "my_torch8[:,1:]"
      ],
      "metadata": {
        "colab": {
          "base_uri": "https://localhost:8080/"
        },
        "id": "LAlLAIO1_d0Q",
        "outputId": "bfe30381-bb47-46e0-cde7-01de51591377"
      },
      "execution_count": 95,
      "outputs": [
        {
          "output_type": "execute_result",
          "data": {
            "text/plain": [
              "tensor([[1],\n",
              "        [3],\n",
              "        [5],\n",
              "        [7],\n",
              "        [9]])"
            ]
          },
          "metadata": {},
          "execution_count": 95
        }
      ]
    },
    {
      "cell_type": "markdown",
      "source": [
        "# Tensor Math Operation\n",
        "*  Add, Subtract, Multiply, Divide, Remainders, Exponents\n",
        "*  Shorthand and Longhand\n",
        "*  Reassignment"
      ],
      "metadata": {
        "id": "L-LfkAxU-qRT"
      }
    },
    {
      "cell_type": "code",
      "source": [
        "tensor_a  = torch.tensor([1,2,3,4])\n",
        "tensor_b  = torch.tensor([5,6,7,8])"
      ],
      "metadata": {
        "id": "5_MwhnvwAXj7"
      },
      "execution_count": 96,
      "outputs": []
    },
    {
      "cell_type": "code",
      "source": [
        "# addition shorthand\n",
        "tensor_a + tensor_b"
      ],
      "metadata": {
        "colab": {
          "base_uri": "https://localhost:8080/"
        },
        "id": "rOiewG3RBQjj",
        "outputId": "f577840d-3c2e-4553-cd82-1f8a66f3a214"
      },
      "execution_count": 97,
      "outputs": [
        {
          "output_type": "execute_result",
          "data": {
            "text/plain": [
              "tensor([ 6,  8, 10, 12])"
            ]
          },
          "metadata": {},
          "execution_count": 97
        }
      ]
    },
    {
      "cell_type": "code",
      "source": [
        "tensor_a.add(tensor_b)"
      ],
      "metadata": {
        "colab": {
          "base_uri": "https://localhost:8080/"
        },
        "id": "F0nxPtv8DJOo",
        "outputId": "5ace8adf-602c-4530-9ca0-ae48627138ab"
      },
      "execution_count": 98,
      "outputs": [
        {
          "output_type": "execute_result",
          "data": {
            "text/plain": [
              "tensor([ 6,  8, 10, 12])"
            ]
          },
          "metadata": {},
          "execution_count": 98
        }
      ]
    },
    {
      "cell_type": "code",
      "source": [
        "# addition longhand\n",
        "torch.add(tensor_a, tensor_b)"
      ],
      "metadata": {
        "colab": {
          "base_uri": "https://localhost:8080/"
        },
        "id": "7Ct7G7Q2Beqb",
        "outputId": "98acc1a2-5b6a-4fee-8810-5a1922290390"
      },
      "execution_count": 99,
      "outputs": [
        {
          "output_type": "execute_result",
          "data": {
            "text/plain": [
              "tensor([ 6,  8, 10, 12])"
            ]
          },
          "metadata": {},
          "execution_count": 99
        }
      ]
    },
    {
      "cell_type": "code",
      "source": [
        "# subtraction\n",
        "tensor_b - tensor_a"
      ],
      "metadata": {
        "colab": {
          "base_uri": "https://localhost:8080/"
        },
        "id": "UIIDbHowBzat",
        "outputId": "1088d107-3d15-4b93-effc-9e4730eecfaf"
      },
      "execution_count": 100,
      "outputs": [
        {
          "output_type": "execute_result",
          "data": {
            "text/plain": [
              "tensor([4, 4, 4, 4])"
            ]
          },
          "metadata": {},
          "execution_count": 100
        }
      ]
    },
    {
      "cell_type": "code",
      "source": [
        "torch.sub(tensor_b,tensor_a)"
      ],
      "metadata": {
        "colab": {
          "base_uri": "https://localhost:8080/"
        },
        "id": "skOakSUcB841",
        "outputId": "fce97e1b-bd09-439c-f0ed-958f71f4c735"
      },
      "execution_count": 101,
      "outputs": [
        {
          "output_type": "execute_result",
          "data": {
            "text/plain": [
              "tensor([4, 4, 4, 4])"
            ]
          },
          "metadata": {},
          "execution_count": 101
        }
      ]
    },
    {
      "cell_type": "code",
      "source": [
        "# Multiplication\n",
        "tensor_a * tensor_b"
      ],
      "metadata": {
        "colab": {
          "base_uri": "https://localhost:8080/"
        },
        "id": "nuuXHJp_CEkQ",
        "outputId": "73e88458-c8be-4e2f-e8f4-1f9f0b6f2fe1"
      },
      "execution_count": 102,
      "outputs": [
        {
          "output_type": "execute_result",
          "data": {
            "text/plain": [
              "tensor([ 5, 12, 21, 32])"
            ]
          },
          "metadata": {},
          "execution_count": 102
        }
      ]
    },
    {
      "cell_type": "code",
      "source": [
        "torch.mul(tensor_a,tensor_b)"
      ],
      "metadata": {
        "colab": {
          "base_uri": "https://localhost:8080/"
        },
        "id": "JjZphRx_COOf",
        "outputId": "951f3c57-fa88-495d-c98f-3b058048cba9"
      },
      "execution_count": 103,
      "outputs": [
        {
          "output_type": "execute_result",
          "data": {
            "text/plain": [
              "tensor([ 5, 12, 21, 32])"
            ]
          },
          "metadata": {},
          "execution_count": 103
        }
      ]
    },
    {
      "cell_type": "code",
      "source": [
        "# Division\n",
        "tensor_b / tensor_a"
      ],
      "metadata": {
        "colab": {
          "base_uri": "https://localhost:8080/"
        },
        "id": "g_FsjF9ZCU-6",
        "outputId": "a2822195-988e-480f-dd32-76ab69c39522"
      },
      "execution_count": 104,
      "outputs": [
        {
          "output_type": "execute_result",
          "data": {
            "text/plain": [
              "tensor([5.0000, 3.0000, 2.3333, 2.0000])"
            ]
          },
          "metadata": {},
          "execution_count": 104
        }
      ]
    },
    {
      "cell_type": "code",
      "source": [
        "torch.div(tensor_b,tensor_a)"
      ],
      "metadata": {
        "colab": {
          "base_uri": "https://localhost:8080/"
        },
        "id": "mwwp_kfbCbWU",
        "outputId": "cd67ff6f-fbff-4c5d-d95f-1657b2b09632"
      },
      "execution_count": 105,
      "outputs": [
        {
          "output_type": "execute_result",
          "data": {
            "text/plain": [
              "tensor([5.0000, 3.0000, 2.3333, 2.0000])"
            ]
          },
          "metadata": {},
          "execution_count": 105
        }
      ]
    },
    {
      "cell_type": "code",
      "source": [
        "# remainder\n",
        "tensor_b % tensor_a"
      ],
      "metadata": {
        "colab": {
          "base_uri": "https://localhost:8080/"
        },
        "id": "xe2A5r4NCg5j",
        "outputId": "ba441cd9-ca08-42c6-f296-e32f98ee0004"
      },
      "execution_count": 106,
      "outputs": [
        {
          "output_type": "execute_result",
          "data": {
            "text/plain": [
              "tensor([0, 0, 1, 0])"
            ]
          },
          "metadata": {},
          "execution_count": 106
        }
      ]
    },
    {
      "cell_type": "code",
      "source": [
        "torch.remainder(tensor_b,tensor_a)"
      ],
      "metadata": {
        "colab": {
          "base_uri": "https://localhost:8080/"
        },
        "id": "HoruTofaCnVG",
        "outputId": "e1d18fbe-68fc-44be-e398-70f07db0d0ab"
      },
      "execution_count": 107,
      "outputs": [
        {
          "output_type": "execute_result",
          "data": {
            "text/plain": [
              "tensor([0, 0, 1, 0])"
            ]
          },
          "metadata": {},
          "execution_count": 107
        }
      ]
    },
    {
      "cell_type": "code",
      "source": [
        "# Exponents / Power\n",
        "torch.pow(tensor_a,tensor_b)"
      ],
      "metadata": {
        "colab": {
          "base_uri": "https://localhost:8080/"
        },
        "id": "qV2HaJM6C2WY",
        "outputId": "2a10bca4-d823-4a02-c670-41ad34cb2fc9"
      },
      "execution_count": 108,
      "outputs": [
        {
          "output_type": "execute_result",
          "data": {
            "text/plain": [
              "tensor([    1,    64,  2187, 65536])"
            ]
          },
          "metadata": {},
          "execution_count": 108
        }
      ]
    },
    {
      "cell_type": "code",
      "source": [
        "# Reassignment\n",
        "tensor_a + tensor_b"
      ],
      "metadata": {
        "colab": {
          "base_uri": "https://localhost:8080/"
        },
        "id": "qG_kwRw-DAw-",
        "outputId": "dcc4ef03-93e8-4be2-a869-ebec41fb0af2"
      },
      "execution_count": 109,
      "outputs": [
        {
          "output_type": "execute_result",
          "data": {
            "text/plain": [
              "tensor([ 6,  8, 10, 12])"
            ]
          },
          "metadata": {},
          "execution_count": 109
        }
      ]
    },
    {
      "cell_type": "code",
      "source": [
        "tensor_a"
      ],
      "metadata": {
        "colab": {
          "base_uri": "https://localhost:8080/"
        },
        "id": "iWwLg6D3DW8Z",
        "outputId": "c3a8752d-601f-465c-ff97-725e9bd082de"
      },
      "execution_count": 110,
      "outputs": [
        {
          "output_type": "execute_result",
          "data": {
            "text/plain": [
              "tensor([1, 2, 3, 4])"
            ]
          },
          "metadata": {},
          "execution_count": 110
        }
      ]
    },
    {
      "cell_type": "code",
      "source": [
        "#tensor_a = tensor_a + tensor_b  LONG WAY TO REASSIGN\n",
        "tensor_a.add_(tensor_b)\n",
        "tensor_a\n",
        "#reassigned !"
      ],
      "metadata": {
        "colab": {
          "base_uri": "https://localhost:8080/"
        },
        "id": "Jkcuj6TWDZLf",
        "outputId": "97cf4d08-7f6d-4765-c077-4fdb559d2f7a"
      },
      "execution_count": 111,
      "outputs": [
        {
          "output_type": "execute_result",
          "data": {
            "text/plain": [
              "tensor([ 6,  8, 10, 12])"
            ]
          },
          "metadata": {},
          "execution_count": 111
        }
      ]
    },
    {
      "cell_type": "markdown",
      "source": [
        "# Bsic Neural Network Model\n",
        "\n",
        "**Load data and Train Neural Network**"
      ],
      "metadata": {
        "id": "5OVvFbufEU8d"
      }
    },
    {
      "cell_type": "markdown",
      "source": [
        "![Snipaste_2024-10-07_15-03-54.jpg](data:image/jpeg;base64,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)"
      ],
      "metadata": {
        "id": "M3TGjnKMFCzk"
      }
    },
    {
      "cell_type": "code",
      "source": [
        "import torch\n",
        "import torch.nn as nn\n",
        "import torch.nn.functional as F"
      ],
      "metadata": {
        "id": "95jJW6lqFMKd"
      },
      "execution_count": 112,
      "outputs": []
    },
    {
      "cell_type": "code",
      "source": [
        "# Create a model class  that inherits nn.Module  OBJECT ORIENTED\n",
        "class Model(nn.Module):\n",
        "  # Input Layer(4 features of the flower) --> Hidden Layer1(number of neurons) --> H2(n) ---> output( 3 classes of iris flowers)\n",
        "  def __init__(self, in_features=4, h1=8, h2=9, out_features=3):\n",
        "    super().__init__() # instantiate our nn.Module\n",
        "    self.fc1 = nn.Linear(in_features, h1) #fc means fully connected\n",
        "    self.fc2 = nn.Linear(h1,h2)\n",
        "    self.out = nn.Linear(h2, out_features)\n",
        "\n",
        "  def forward(self, x):\n",
        "    x = F.relu(self.fc1(x)) # rectified linear unit  #it's like ... if output is zero let-s use zero\n",
        "    x = F.relu(self.fc2(x))  # move forward into layer1 then to layer2\n",
        "    x = self.out(x)\n",
        "\n",
        "    return x\n"
      ],
      "metadata": {
        "id": "qOJ4b3SJF5e6"
      },
      "execution_count": 113,
      "outputs": []
    },
    {
      "cell_type": "code",
      "source": [
        "#pick a manual seed for randomization\n",
        "torch.manual_seed(41)\n",
        "\n",
        "#Create an instance for our model\n",
        "model = Model()\n"
      ],
      "metadata": {
        "id": "h1yLryUdJoMZ"
      },
      "execution_count": 114,
      "outputs": []
    },
    {
      "cell_type": "code",
      "source": [
        "import pandas as pd\n",
        "import matplotlib.pyplot as plt\n",
        "%matplotlib inline"
      ],
      "metadata": {
        "id": "-DrkNdQKVwEq"
      },
      "execution_count": 115,
      "outputs": []
    },
    {
      "cell_type": "code",
      "source": [
        "url = 'https://gist.githubusercontent.com/curran/a08a1080b88344b0c8a7/raw/0e7a9b0a5d22642a06d3d5b9bcbad9890c8ee534/iris.csv'\n",
        "my_df = pd.read_csv(url)"
      ],
      "metadata": {
        "id": "nAMqcqQHWEqy"
      },
      "execution_count": 116,
      "outputs": []
    },
    {
      "cell_type": "code",
      "source": [
        "my_df"
      ],
      "metadata": {
        "colab": {
          "base_uri": "https://localhost:8080/",
          "height": 423
        },
        "id": "DZRAwmmlWdRm",
        "outputId": "5db11966-f7ec-433d-efa3-8f86ff51899e"
      },
      "execution_count": 117,
      "outputs": [
        {
          "output_type": "execute_result",
          "data": {
            "text/plain": [
              "     sepal_length  sepal_width  petal_length  petal_width    species\n",
              "0             5.1          3.5           1.4          0.2     setosa\n",
              "1             4.9          3.0           1.4          0.2     setosa\n",
              "2             4.7          3.2           1.3          0.2     setosa\n",
              "3             4.6          3.1           1.5          0.2     setosa\n",
              "4             5.0          3.6           1.4          0.2     setosa\n",
              "..            ...          ...           ...          ...        ...\n",
              "145           6.7          3.0           5.2          2.3  virginica\n",
              "146           6.3          2.5           5.0          1.9  virginica\n",
              "147           6.5          3.0           5.2          2.0  virginica\n",
              "148           6.2          3.4           5.4          2.3  virginica\n",
              "149           5.9          3.0           5.1          1.8  virginica\n",
              "\n",
              "[150 rows x 5 columns]"
            ],
            "text/html": [
              "\n",
              "  <div id=\"df-9135423d-f32b-4297-ab7f-2d30e74d195e\" class=\"colab-df-container\">\n",
              "    <div>\n",
              "<style scoped>\n",
              "    .dataframe tbody tr th:only-of-type {\n",
              "        vertical-align: middle;\n",
              "    }\n",
              "\n",
              "    .dataframe tbody tr th {\n",
              "        vertical-align: top;\n",
              "    }\n",
              "\n",
              "    .dataframe thead th {\n",
              "        text-align: right;\n",
              "    }\n",
              "</style>\n",
              "<table border=\"1\" class=\"dataframe\">\n",
              "  <thead>\n",
              "    <tr style=\"text-align: right;\">\n",
              "      <th></th>\n",
              "      <th>sepal_length</th>\n",
              "      <th>sepal_width</th>\n",
              "      <th>petal_length</th>\n",
              "      <th>petal_width</th>\n",
              "      <th>species</th>\n",
              "    </tr>\n",
              "  </thead>\n",
              "  <tbody>\n",
              "    <tr>\n",
              "      <th>0</th>\n",
              "      <td>5.1</td>\n",
              "      <td>3.5</td>\n",
              "      <td>1.4</td>\n",
              "      <td>0.2</td>\n",
              "      <td>setosa</td>\n",
              "    </tr>\n",
              "    <tr>\n",
              "      <th>1</th>\n",
              "      <td>4.9</td>\n",
              "      <td>3.0</td>\n",
              "      <td>1.4</td>\n",
              "      <td>0.2</td>\n",
              "      <td>setosa</td>\n",
              "    </tr>\n",
              "    <tr>\n",
              "      <th>2</th>\n",
              "      <td>4.7</td>\n",
              "      <td>3.2</td>\n",
              "      <td>1.3</td>\n",
              "      <td>0.2</td>\n",
              "      <td>setosa</td>\n",
              "    </tr>\n",
              "    <tr>\n",
              "      <th>3</th>\n",
              "      <td>4.6</td>\n",
              "      <td>3.1</td>\n",
              "      <td>1.5</td>\n",
              "      <td>0.2</td>\n",
              "      <td>setosa</td>\n",
              "    </tr>\n",
              "    <tr>\n",
              "      <th>4</th>\n",
              "      <td>5.0</td>\n",
              "      <td>3.6</td>\n",
              "      <td>1.4</td>\n",
              "      <td>0.2</td>\n",
              "      <td>setosa</td>\n",
              "    </tr>\n",
              "    <tr>\n",
              "      <th>...</th>\n",
              "      <td>...</td>\n",
              "      <td>...</td>\n",
              "      <td>...</td>\n",
              "      <td>...</td>\n",
              "      <td>...</td>\n",
              "    </tr>\n",
              "    <tr>\n",
              "      <th>145</th>\n",
              "      <td>6.7</td>\n",
              "      <td>3.0</td>\n",
              "      <td>5.2</td>\n",
              "      <td>2.3</td>\n",
              "      <td>virginica</td>\n",
              "    </tr>\n",
              "    <tr>\n",
              "      <th>146</th>\n",
              "      <td>6.3</td>\n",
              "      <td>2.5</td>\n",
              "      <td>5.0</td>\n",
              "      <td>1.9</td>\n",
              "      <td>virginica</td>\n",
              "    </tr>\n",
              "    <tr>\n",
              "      <th>147</th>\n",
              "      <td>6.5</td>\n",
              "      <td>3.0</td>\n",
              "      <td>5.2</td>\n",
              "      <td>2.0</td>\n",
              "      <td>virginica</td>\n",
              "    </tr>\n",
              "    <tr>\n",
              "      <th>148</th>\n",
              "      <td>6.2</td>\n",
              "      <td>3.4</td>\n",
              "      <td>5.4</td>\n",
              "      <td>2.3</td>\n",
              "      <td>virginica</td>\n",
              "    </tr>\n",
              "    <tr>\n",
              "      <th>149</th>\n",
              "      <td>5.9</td>\n",
              "      <td>3.0</td>\n",
              "      <td>5.1</td>\n",
              "      <td>1.8</td>\n",
              "      <td>virginica</td>\n",
              "    </tr>\n",
              "  </tbody>\n",
              "</table>\n",
              "<p>150 rows × 5 columns</p>\n",
              "</div>\n",
              "    <div class=\"colab-df-buttons\">\n",
              "\n",
              "  <div class=\"colab-df-container\">\n",
              "    <button class=\"colab-df-convert\" onclick=\"convertToInteractive('df-9135423d-f32b-4297-ab7f-2d30e74d195e')\"\n",
              "            title=\"Convert this dataframe to an interactive table.\"\n",
              "            style=\"display:none;\">\n",
              "\n",
              "  <svg xmlns=\"http://www.w3.org/2000/svg\" height=\"24px\" viewBox=\"0 -960 960 960\">\n",
              "    <path d=\"M120-120v-720h720v720H120Zm60-500h600v-160H180v160Zm220 220h160v-160H400v160Zm0 220h160v-160H400v160ZM180-400h160v-160H180v160Zm440 0h160v-160H620v160ZM180-180h160v-160H180v160Zm440 0h160v-160H620v160Z\"/>\n",
              "  </svg>\n",
              "    </button>\n",
              "\n",
              "  <style>\n",
              "    .colab-df-container {\n",
              "      display:flex;\n",
              "      gap: 12px;\n",
              "    }\n",
              "\n",
              "    .colab-df-convert {\n",
              "      background-color: #E8F0FE;\n",
              "      border: none;\n",
              "      border-radius: 50%;\n",
              "      cursor: pointer;\n",
              "      display: none;\n",
              "      fill: #1967D2;\n",
              "      height: 32px;\n",
              "      padding: 0 0 0 0;\n",
              "      width: 32px;\n",
              "    }\n",
              "\n",
              "    .colab-df-convert:hover {\n",
              "      background-color: #E2EBFA;\n",
              "      box-shadow: 0px 1px 2px rgba(60, 64, 67, 0.3), 0px 1px 3px 1px rgba(60, 64, 67, 0.15);\n",
              "      fill: #174EA6;\n",
              "    }\n",
              "\n",
              "    .colab-df-buttons div {\n",
              "      margin-bottom: 4px;\n",
              "    }\n",
              "\n",
              "    [theme=dark] .colab-df-convert {\n",
              "      background-color: #3B4455;\n",
              "      fill: #D2E3FC;\n",
              "    }\n",
              "\n",
              "    [theme=dark] .colab-df-convert:hover {\n",
              "      background-color: #434B5C;\n",
              "      box-shadow: 0px 1px 3px 1px rgba(0, 0, 0, 0.15);\n",
              "      filter: drop-shadow(0px 1px 2px rgba(0, 0, 0, 0.3));\n",
              "      fill: #FFFFFF;\n",
              "    }\n",
              "  </style>\n",
              "\n",
              "    <script>\n",
              "      const buttonEl =\n",
              "        document.querySelector('#df-9135423d-f32b-4297-ab7f-2d30e74d195e button.colab-df-convert');\n",
              "      buttonEl.style.display =\n",
              "        google.colab.kernel.accessAllowed ? 'block' : 'none';\n",
              "\n",
              "      async function convertToInteractive(key) {\n",
              "        const element = document.querySelector('#df-9135423d-f32b-4297-ab7f-2d30e74d195e');\n",
              "        const dataTable =\n",
              "          await google.colab.kernel.invokeFunction('convertToInteractive',\n",
              "                                                    [key], {});\n",
              "        if (!dataTable) return;\n",
              "\n",
              "        const docLinkHtml = 'Like what you see? Visit the ' +\n",
              "          '<a target=\"_blank\" href=https://colab.research.google.com/notebooks/data_table.ipynb>data table notebook</a>'\n",
              "          + ' to learn more about interactive tables.';\n",
              "        element.innerHTML = '';\n",
              "        dataTable['output_type'] = 'display_data';\n",
              "        await google.colab.output.renderOutput(dataTable, element);\n",
              "        const docLink = document.createElement('div');\n",
              "        docLink.innerHTML = docLinkHtml;\n",
              "        element.appendChild(docLink);\n",
              "      }\n",
              "    </script>\n",
              "  </div>\n",
              "\n",
              "\n",
              "<div id=\"df-b1d72a0d-e732-4c7a-a622-2e998fc89299\">\n",
              "  <button class=\"colab-df-quickchart\" onclick=\"quickchart('df-b1d72a0d-e732-4c7a-a622-2e998fc89299')\"\n",
              "            title=\"Suggest charts\"\n",
              "            style=\"display:none;\">\n",
              "\n",
              "<svg xmlns=\"http://www.w3.org/2000/svg\" height=\"24px\"viewBox=\"0 0 24 24\"\n",
              "     width=\"24px\">\n",
              "    <g>\n",
              "        <path d=\"M19 3H5c-1.1 0-2 .9-2 2v14c0 1.1.9 2 2 2h14c1.1 0 2-.9 2-2V5c0-1.1-.9-2-2-2zM9 17H7v-7h2v7zm4 0h-2V7h2v10zm4 0h-2v-4h2v4z\"/>\n",
              "    </g>\n",
              "</svg>\n",
              "  </button>\n",
              "\n",
              "<style>\n",
              "  .colab-df-quickchart {\n",
              "      --bg-color: #E8F0FE;\n",
              "      --fill-color: #1967D2;\n",
              "      --hover-bg-color: #E2EBFA;\n",
              "      --hover-fill-color: #174EA6;\n",
              "      --disabled-fill-color: #AAA;\n",
              "      --disabled-bg-color: #DDD;\n",
              "  }\n",
              "\n",
              "  [theme=dark] .colab-df-quickchart {\n",
              "      --bg-color: #3B4455;\n",
              "      --fill-color: #D2E3FC;\n",
              "      --hover-bg-color: #434B5C;\n",
              "      --hover-fill-color: #FFFFFF;\n",
              "      --disabled-bg-color: #3B4455;\n",
              "      --disabled-fill-color: #666;\n",
              "  }\n",
              "\n",
              "  .colab-df-quickchart {\n",
              "    background-color: var(--bg-color);\n",
              "    border: none;\n",
              "    border-radius: 50%;\n",
              "    cursor: pointer;\n",
              "    display: none;\n",
              "    fill: var(--fill-color);\n",
              "    height: 32px;\n",
              "    padding: 0;\n",
              "    width: 32px;\n",
              "  }\n",
              "\n",
              "  .colab-df-quickchart:hover {\n",
              "    background-color: var(--hover-bg-color);\n",
              "    box-shadow: 0 1px 2px rgba(60, 64, 67, 0.3), 0 1px 3px 1px rgba(60, 64, 67, 0.15);\n",
              "    fill: var(--button-hover-fill-color);\n",
              "  }\n",
              "\n",
              "  .colab-df-quickchart-complete:disabled,\n",
              "  .colab-df-quickchart-complete:disabled:hover {\n",
              "    background-color: var(--disabled-bg-color);\n",
              "    fill: var(--disabled-fill-color);\n",
              "    box-shadow: none;\n",
              "  }\n",
              "\n",
              "  .colab-df-spinner {\n",
              "    border: 2px solid var(--fill-color);\n",
              "    border-color: transparent;\n",
              "    border-bottom-color: var(--fill-color);\n",
              "    animation:\n",
              "      spin 1s steps(1) infinite;\n",
              "  }\n",
              "\n",
              "  @keyframes spin {\n",
              "    0% {\n",
              "      border-color: transparent;\n",
              "      border-bottom-color: var(--fill-color);\n",
              "      border-left-color: var(--fill-color);\n",
              "    }\n",
              "    20% {\n",
              "      border-color: transparent;\n",
              "      border-left-color: var(--fill-color);\n",
              "      border-top-color: var(--fill-color);\n",
              "    }\n",
              "    30% {\n",
              "      border-color: transparent;\n",
              "      border-left-color: var(--fill-color);\n",
              "      border-top-color: var(--fill-color);\n",
              "      border-right-color: var(--fill-color);\n",
              "    }\n",
              "    40% {\n",
              "      border-color: transparent;\n",
              "      border-right-color: var(--fill-color);\n",
              "      border-top-color: var(--fill-color);\n",
              "    }\n",
              "    60% {\n",
              "      border-color: transparent;\n",
              "      border-right-color: var(--fill-color);\n",
              "    }\n",
              "    80% {\n",
              "      border-color: transparent;\n",
              "      border-right-color: var(--fill-color);\n",
              "      border-bottom-color: var(--fill-color);\n",
              "    }\n",
              "    90% {\n",
              "      border-color: transparent;\n",
              "      border-bottom-color: var(--fill-color);\n",
              "    }\n",
              "  }\n",
              "</style>\n",
              "\n",
              "  <script>\n",
              "    async function quickchart(key) {\n",
              "      const quickchartButtonEl =\n",
              "        document.querySelector('#' + key + ' button');\n",
              "      quickchartButtonEl.disabled = true;  // To prevent multiple clicks.\n",
              "      quickchartButtonEl.classList.add('colab-df-spinner');\n",
              "      try {\n",
              "        const charts = await google.colab.kernel.invokeFunction(\n",
              "            'suggestCharts', [key], {});\n",
              "      } catch (error) {\n",
              "        console.error('Error during call to suggestCharts:', error);\n",
              "      }\n",
              "      quickchartButtonEl.classList.remove('colab-df-spinner');\n",
              "      quickchartButtonEl.classList.add('colab-df-quickchart-complete');\n",
              "    }\n",
              "    (() => {\n",
              "      let quickchartButtonEl =\n",
              "        document.querySelector('#df-b1d72a0d-e732-4c7a-a622-2e998fc89299 button');\n",
              "      quickchartButtonEl.style.display =\n",
              "        google.colab.kernel.accessAllowed ? 'block' : 'none';\n",
              "    })();\n",
              "  </script>\n",
              "</div>\n",
              "\n",
              "  <div id=\"id_3b489e43-9093-4bbd-8763-f87113677f7d\">\n",
              "    <style>\n",
              "      .colab-df-generate {\n",
              "        background-color: #E8F0FE;\n",
              "        border: none;\n",
              "        border-radius: 50%;\n",
              "        cursor: pointer;\n",
              "        display: none;\n",
              "        fill: #1967D2;\n",
              "        height: 32px;\n",
              "        padding: 0 0 0 0;\n",
              "        width: 32px;\n",
              "      }\n",
              "\n",
              "      .colab-df-generate:hover {\n",
              "        background-color: #E2EBFA;\n",
              "        box-shadow: 0px 1px 2px rgba(60, 64, 67, 0.3), 0px 1px 3px 1px rgba(60, 64, 67, 0.15);\n",
              "        fill: #174EA6;\n",
              "      }\n",
              "\n",
              "      [theme=dark] .colab-df-generate {\n",
              "        background-color: #3B4455;\n",
              "        fill: #D2E3FC;\n",
              "      }\n",
              "\n",
              "      [theme=dark] .colab-df-generate:hover {\n",
              "        background-color: #434B5C;\n",
              "        box-shadow: 0px 1px 3px 1px rgba(0, 0, 0, 0.15);\n",
              "        filter: drop-shadow(0px 1px 2px rgba(0, 0, 0, 0.3));\n",
              "        fill: #FFFFFF;\n",
              "      }\n",
              "    </style>\n",
              "    <button class=\"colab-df-generate\" onclick=\"generateWithVariable('my_df')\"\n",
              "            title=\"Generate code using this dataframe.\"\n",
              "            style=\"display:none;\">\n",
              "\n",
              "  <svg xmlns=\"http://www.w3.org/2000/svg\" height=\"24px\"viewBox=\"0 0 24 24\"\n",
              "       width=\"24px\">\n",
              "    <path d=\"M7,19H8.4L18.45,9,17,7.55,7,17.6ZM5,21V16.75L18.45,3.32a2,2,0,0,1,2.83,0l1.4,1.43a1.91,1.91,0,0,1,.58,1.4,1.91,1.91,0,0,1-.58,1.4L9.25,21ZM18.45,9,17,7.55Zm-12,3A5.31,5.31,0,0,0,4.9,8.1,5.31,5.31,0,0,0,1,6.5,5.31,5.31,0,0,0,4.9,4.9,5.31,5.31,0,0,0,6.5,1,5.31,5.31,0,0,0,8.1,4.9,5.31,5.31,0,0,0,12,6.5,5.46,5.46,0,0,0,6.5,12Z\"/>\n",
              "  </svg>\n",
              "    </button>\n",
              "    <script>\n",
              "      (() => {\n",
              "      const buttonEl =\n",
              "        document.querySelector('#id_3b489e43-9093-4bbd-8763-f87113677f7d button.colab-df-generate');\n",
              "      buttonEl.style.display =\n",
              "        google.colab.kernel.accessAllowed ? 'block' : 'none';\n",
              "\n",
              "      buttonEl.onclick = () => {\n",
              "        google.colab.notebook.generateWithVariable('my_df');\n",
              "      }\n",
              "      })();\n",
              "    </script>\n",
              "  </div>\n",
              "\n",
              "    </div>\n",
              "  </div>\n"
            ],
            "application/vnd.google.colaboratory.intrinsic+json": {
              "type": "dataframe",
              "variable_name": "my_df",
              "summary": "{\n  \"name\": \"my_df\",\n  \"rows\": 150,\n  \"fields\": [\n    {\n      \"column\": \"sepal_length\",\n      \"properties\": {\n        \"dtype\": \"number\",\n        \"std\": 0.8280661279778629,\n        \"min\": 4.3,\n        \"max\": 7.9,\n        \"num_unique_values\": 35,\n        \"samples\": [\n          6.2,\n          4.5,\n          5.6\n        ],\n        \"semantic_type\": \"\",\n        \"description\": \"\"\n      }\n    },\n    {\n      \"column\": \"sepal_width\",\n      \"properties\": {\n        \"dtype\": \"number\",\n        \"std\": 0.4335943113621737,\n        \"min\": 2.0,\n        \"max\": 4.4,\n        \"num_unique_values\": 23,\n        \"samples\": [\n          2.3,\n          4.0,\n          3.5\n        ],\n        \"semantic_type\": \"\",\n        \"description\": \"\"\n      }\n    },\n    {\n      \"column\": \"petal_length\",\n      \"properties\": {\n        \"dtype\": \"number\",\n        \"std\": 1.7644204199522617,\n        \"min\": 1.0,\n        \"max\": 6.9,\n        \"num_unique_values\": 43,\n        \"samples\": [\n          6.7,\n          3.8,\n          3.7\n        ],\n        \"semantic_type\": \"\",\n        \"description\": \"\"\n      }\n    },\n    {\n      \"column\": \"petal_width\",\n      \"properties\": {\n        \"dtype\": \"number\",\n        \"std\": 0.7631607417008414,\n        \"min\": 0.1,\n        \"max\": 2.5,\n        \"num_unique_values\": 22,\n        \"samples\": [\n          0.2,\n          1.2,\n          1.3\n        ],\n        \"semantic_type\": \"\",\n        \"description\": \"\"\n      }\n    },\n    {\n      \"column\": \"species\",\n      \"properties\": {\n        \"dtype\": \"category\",\n        \"num_unique_values\": 3,\n        \"samples\": [\n          \"setosa\",\n          \"versicolor\",\n          \"virginica\"\n        ],\n        \"semantic_type\": \"\",\n        \"description\": \"\"\n      }\n    }\n  ]\n}"
            }
          },
          "metadata": {},
          "execution_count": 117
        }
      ]
    },
    {
      "cell_type": "code",
      "source": [
        "my_df.head(20)"
      ],
      "metadata": {
        "colab": {
          "base_uri": "https://localhost:8080/",
          "height": 676
        },
        "id": "Uxm4Mg5yWjUU",
        "outputId": "0c2969de-fcd2-461f-a53c-4bded928e344"
      },
      "execution_count": 118,
      "outputs": [
        {
          "output_type": "execute_result",
          "data": {
            "text/plain": [
              "    sepal_length  sepal_width  petal_length  petal_width species\n",
              "0            5.1          3.5           1.4          0.2  setosa\n",
              "1            4.9          3.0           1.4          0.2  setosa\n",
              "2            4.7          3.2           1.3          0.2  setosa\n",
              "3            4.6          3.1           1.5          0.2  setosa\n",
              "4            5.0          3.6           1.4          0.2  setosa\n",
              "5            5.4          3.9           1.7          0.4  setosa\n",
              "6            4.6          3.4           1.4          0.3  setosa\n",
              "7            5.0          3.4           1.5          0.2  setosa\n",
              "8            4.4          2.9           1.4          0.2  setosa\n",
              "9            4.9          3.1           1.5          0.1  setosa\n",
              "10           5.4          3.7           1.5          0.2  setosa\n",
              "11           4.8          3.4           1.6          0.2  setosa\n",
              "12           4.8          3.0           1.4          0.1  setosa\n",
              "13           4.3          3.0           1.1          0.1  setosa\n",
              "14           5.8          4.0           1.2          0.2  setosa\n",
              "15           5.7          4.4           1.5          0.4  setosa\n",
              "16           5.4          3.9           1.3          0.4  setosa\n",
              "17           5.1          3.5           1.4          0.3  setosa\n",
              "18           5.7          3.8           1.7          0.3  setosa\n",
              "19           5.1          3.8           1.5          0.3  setosa"
            ],
            "text/html": [
              "\n",
              "  <div id=\"df-313f8ab6-d76b-4354-9e35-4b375aa8b6b0\" class=\"colab-df-container\">\n",
              "    <div>\n",
              "<style scoped>\n",
              "    .dataframe tbody tr th:only-of-type {\n",
              "        vertical-align: middle;\n",
              "    }\n",
              "\n",
              "    .dataframe tbody tr th {\n",
              "        vertical-align: top;\n",
              "    }\n",
              "\n",
              "    .dataframe thead th {\n",
              "        text-align: right;\n",
              "    }\n",
              "</style>\n",
              "<table border=\"1\" class=\"dataframe\">\n",
              "  <thead>\n",
              "    <tr style=\"text-align: right;\">\n",
              "      <th></th>\n",
              "      <th>sepal_length</th>\n",
              "      <th>sepal_width</th>\n",
              "      <th>petal_length</th>\n",
              "      <th>petal_width</th>\n",
              "      <th>species</th>\n",
              "    </tr>\n",
              "  </thead>\n",
              "  <tbody>\n",
              "    <tr>\n",
              "      <th>0</th>\n",
              "      <td>5.1</td>\n",
              "      <td>3.5</td>\n",
              "      <td>1.4</td>\n",
              "      <td>0.2</td>\n",
              "      <td>setosa</td>\n",
              "    </tr>\n",
              "    <tr>\n",
              "      <th>1</th>\n",
              "      <td>4.9</td>\n",
              "      <td>3.0</td>\n",
              "      <td>1.4</td>\n",
              "      <td>0.2</td>\n",
              "      <td>setosa</td>\n",
              "    </tr>\n",
              "    <tr>\n",
              "      <th>2</th>\n",
              "      <td>4.7</td>\n",
              "      <td>3.2</td>\n",
              "      <td>1.3</td>\n",
              "      <td>0.2</td>\n",
              "      <td>setosa</td>\n",
              "    </tr>\n",
              "    <tr>\n",
              "      <th>3</th>\n",
              "      <td>4.6</td>\n",
              "      <td>3.1</td>\n",
              "      <td>1.5</td>\n",
              "      <td>0.2</td>\n",
              "      <td>setosa</td>\n",
              "    </tr>\n",
              "    <tr>\n",
              "      <th>4</th>\n",
              "      <td>5.0</td>\n",
              "      <td>3.6</td>\n",
              "      <td>1.4</td>\n",
              "      <td>0.2</td>\n",
              "      <td>setosa</td>\n",
              "    </tr>\n",
              "    <tr>\n",
              "      <th>5</th>\n",
              "      <td>5.4</td>\n",
              "      <td>3.9</td>\n",
              "      <td>1.7</td>\n",
              "      <td>0.4</td>\n",
              "      <td>setosa</td>\n",
              "    </tr>\n",
              "    <tr>\n",
              "      <th>6</th>\n",
              "      <td>4.6</td>\n",
              "      <td>3.4</td>\n",
              "      <td>1.4</td>\n",
              "      <td>0.3</td>\n",
              "      <td>setosa</td>\n",
              "    </tr>\n",
              "    <tr>\n",
              "      <th>7</th>\n",
              "      <td>5.0</td>\n",
              "      <td>3.4</td>\n",
              "      <td>1.5</td>\n",
              "      <td>0.2</td>\n",
              "      <td>setosa</td>\n",
              "    </tr>\n",
              "    <tr>\n",
              "      <th>8</th>\n",
              "      <td>4.4</td>\n",
              "      <td>2.9</td>\n",
              "      <td>1.4</td>\n",
              "      <td>0.2</td>\n",
              "      <td>setosa</td>\n",
              "    </tr>\n",
              "    <tr>\n",
              "      <th>9</th>\n",
              "      <td>4.9</td>\n",
              "      <td>3.1</td>\n",
              "      <td>1.5</td>\n",
              "      <td>0.1</td>\n",
              "      <td>setosa</td>\n",
              "    </tr>\n",
              "    <tr>\n",
              "      <th>10</th>\n",
              "      <td>5.4</td>\n",
              "      <td>3.7</td>\n",
              "      <td>1.5</td>\n",
              "      <td>0.2</td>\n",
              "      <td>setosa</td>\n",
              "    </tr>\n",
              "    <tr>\n",
              "      <th>11</th>\n",
              "      <td>4.8</td>\n",
              "      <td>3.4</td>\n",
              "      <td>1.6</td>\n",
              "      <td>0.2</td>\n",
              "      <td>setosa</td>\n",
              "    </tr>\n",
              "    <tr>\n",
              "      <th>12</th>\n",
              "      <td>4.8</td>\n",
              "      <td>3.0</td>\n",
              "      <td>1.4</td>\n",
              "      <td>0.1</td>\n",
              "      <td>setosa</td>\n",
              "    </tr>\n",
              "    <tr>\n",
              "      <th>13</th>\n",
              "      <td>4.3</td>\n",
              "      <td>3.0</td>\n",
              "      <td>1.1</td>\n",
              "      <td>0.1</td>\n",
              "      <td>setosa</td>\n",
              "    </tr>\n",
              "    <tr>\n",
              "      <th>14</th>\n",
              "      <td>5.8</td>\n",
              "      <td>4.0</td>\n",
              "      <td>1.2</td>\n",
              "      <td>0.2</td>\n",
              "      <td>setosa</td>\n",
              "    </tr>\n",
              "    <tr>\n",
              "      <th>15</th>\n",
              "      <td>5.7</td>\n",
              "      <td>4.4</td>\n",
              "      <td>1.5</td>\n",
              "      <td>0.4</td>\n",
              "      <td>setosa</td>\n",
              "    </tr>\n",
              "    <tr>\n",
              "      <th>16</th>\n",
              "      <td>5.4</td>\n",
              "      <td>3.9</td>\n",
              "      <td>1.3</td>\n",
              "      <td>0.4</td>\n",
              "      <td>setosa</td>\n",
              "    </tr>\n",
              "    <tr>\n",
              "      <th>17</th>\n",
              "      <td>5.1</td>\n",
              "      <td>3.5</td>\n",
              "      <td>1.4</td>\n",
              "      <td>0.3</td>\n",
              "      <td>setosa</td>\n",
              "    </tr>\n",
              "    <tr>\n",
              "      <th>18</th>\n",
              "      <td>5.7</td>\n",
              "      <td>3.8</td>\n",
              "      <td>1.7</td>\n",
              "      <td>0.3</td>\n",
              "      <td>setosa</td>\n",
              "    </tr>\n",
              "    <tr>\n",
              "      <th>19</th>\n",
              "      <td>5.1</td>\n",
              "      <td>3.8</td>\n",
              "      <td>1.5</td>\n",
              "      <td>0.3</td>\n",
              "      <td>setosa</td>\n",
              "    </tr>\n",
              "  </tbody>\n",
              "</table>\n",
              "</div>\n",
              "    <div class=\"colab-df-buttons\">\n",
              "\n",
              "  <div class=\"colab-df-container\">\n",
              "    <button class=\"colab-df-convert\" onclick=\"convertToInteractive('df-313f8ab6-d76b-4354-9e35-4b375aa8b6b0')\"\n",
              "            title=\"Convert this dataframe to an interactive table.\"\n",
              "            style=\"display:none;\">\n",
              "\n",
              "  <svg xmlns=\"http://www.w3.org/2000/svg\" height=\"24px\" viewBox=\"0 -960 960 960\">\n",
              "    <path d=\"M120-120v-720h720v720H120Zm60-500h600v-160H180v160Zm220 220h160v-160H400v160Zm0 220h160v-160H400v160ZM180-400h160v-160H180v160Zm440 0h160v-160H620v160ZM180-180h160v-160H180v160Zm440 0h160v-160H620v160Z\"/>\n",
              "  </svg>\n",
              "    </button>\n",
              "\n",
              "  <style>\n",
              "    .colab-df-container {\n",
              "      display:flex;\n",
              "      gap: 12px;\n",
              "    }\n",
              "\n",
              "    .colab-df-convert {\n",
              "      background-color: #E8F0FE;\n",
              "      border: none;\n",
              "      border-radius: 50%;\n",
              "      cursor: pointer;\n",
              "      display: none;\n",
              "      fill: #1967D2;\n",
              "      height: 32px;\n",
              "      padding: 0 0 0 0;\n",
              "      width: 32px;\n",
              "    }\n",
              "\n",
              "    .colab-df-convert:hover {\n",
              "      background-color: #E2EBFA;\n",
              "      box-shadow: 0px 1px 2px rgba(60, 64, 67, 0.3), 0px 1px 3px 1px rgba(60, 64, 67, 0.15);\n",
              "      fill: #174EA6;\n",
              "    }\n",
              "\n",
              "    .colab-df-buttons div {\n",
              "      margin-bottom: 4px;\n",
              "    }\n",
              "\n",
              "    [theme=dark] .colab-df-convert {\n",
              "      background-color: #3B4455;\n",
              "      fill: #D2E3FC;\n",
              "    }\n",
              "\n",
              "    [theme=dark] .colab-df-convert:hover {\n",
              "      background-color: #434B5C;\n",
              "      box-shadow: 0px 1px 3px 1px rgba(0, 0, 0, 0.15);\n",
              "      filter: drop-shadow(0px 1px 2px rgba(0, 0, 0, 0.3));\n",
              "      fill: #FFFFFF;\n",
              "    }\n",
              "  </style>\n",
              "\n",
              "    <script>\n",
              "      const buttonEl =\n",
              "        document.querySelector('#df-313f8ab6-d76b-4354-9e35-4b375aa8b6b0 button.colab-df-convert');\n",
              "      buttonEl.style.display =\n",
              "        google.colab.kernel.accessAllowed ? 'block' : 'none';\n",
              "\n",
              "      async function convertToInteractive(key) {\n",
              "        const element = document.querySelector('#df-313f8ab6-d76b-4354-9e35-4b375aa8b6b0');\n",
              "        const dataTable =\n",
              "          await google.colab.kernel.invokeFunction('convertToInteractive',\n",
              "                                                    [key], {});\n",
              "        if (!dataTable) return;\n",
              "\n",
              "        const docLinkHtml = 'Like what you see? Visit the ' +\n",
              "          '<a target=\"_blank\" href=https://colab.research.google.com/notebooks/data_table.ipynb>data table notebook</a>'\n",
              "          + ' to learn more about interactive tables.';\n",
              "        element.innerHTML = '';\n",
              "        dataTable['output_type'] = 'display_data';\n",
              "        await google.colab.output.renderOutput(dataTable, element);\n",
              "        const docLink = document.createElement('div');\n",
              "        docLink.innerHTML = docLinkHtml;\n",
              "        element.appendChild(docLink);\n",
              "      }\n",
              "    </script>\n",
              "  </div>\n",
              "\n",
              "\n",
              "<div id=\"df-2a6eaf48-9507-4fd1-8c9f-3b1a4793d753\">\n",
              "  <button class=\"colab-df-quickchart\" onclick=\"quickchart('df-2a6eaf48-9507-4fd1-8c9f-3b1a4793d753')\"\n",
              "            title=\"Suggest charts\"\n",
              "            style=\"display:none;\">\n",
              "\n",
              "<svg xmlns=\"http://www.w3.org/2000/svg\" height=\"24px\"viewBox=\"0 0 24 24\"\n",
              "     width=\"24px\">\n",
              "    <g>\n",
              "        <path d=\"M19 3H5c-1.1 0-2 .9-2 2v14c0 1.1.9 2 2 2h14c1.1 0 2-.9 2-2V5c0-1.1-.9-2-2-2zM9 17H7v-7h2v7zm4 0h-2V7h2v10zm4 0h-2v-4h2v4z\"/>\n",
              "    </g>\n",
              "</svg>\n",
              "  </button>\n",
              "\n",
              "<style>\n",
              "  .colab-df-quickchart {\n",
              "      --bg-color: #E8F0FE;\n",
              "      --fill-color: #1967D2;\n",
              "      --hover-bg-color: #E2EBFA;\n",
              "      --hover-fill-color: #174EA6;\n",
              "      --disabled-fill-color: #AAA;\n",
              "      --disabled-bg-color: #DDD;\n",
              "  }\n",
              "\n",
              "  [theme=dark] .colab-df-quickchart {\n",
              "      --bg-color: #3B4455;\n",
              "      --fill-color: #D2E3FC;\n",
              "      --hover-bg-color: #434B5C;\n",
              "      --hover-fill-color: #FFFFFF;\n",
              "      --disabled-bg-color: #3B4455;\n",
              "      --disabled-fill-color: #666;\n",
              "  }\n",
              "\n",
              "  .colab-df-quickchart {\n",
              "    background-color: var(--bg-color);\n",
              "    border: none;\n",
              "    border-radius: 50%;\n",
              "    cursor: pointer;\n",
              "    display: none;\n",
              "    fill: var(--fill-color);\n",
              "    height: 32px;\n",
              "    padding: 0;\n",
              "    width: 32px;\n",
              "  }\n",
              "\n",
              "  .colab-df-quickchart:hover {\n",
              "    background-color: var(--hover-bg-color);\n",
              "    box-shadow: 0 1px 2px rgba(60, 64, 67, 0.3), 0 1px 3px 1px rgba(60, 64, 67, 0.15);\n",
              "    fill: var(--button-hover-fill-color);\n",
              "  }\n",
              "\n",
              "  .colab-df-quickchart-complete:disabled,\n",
              "  .colab-df-quickchart-complete:disabled:hover {\n",
              "    background-color: var(--disabled-bg-color);\n",
              "    fill: var(--disabled-fill-color);\n",
              "    box-shadow: none;\n",
              "  }\n",
              "\n",
              "  .colab-df-spinner {\n",
              "    border: 2px solid var(--fill-color);\n",
              "    border-color: transparent;\n",
              "    border-bottom-color: var(--fill-color);\n",
              "    animation:\n",
              "      spin 1s steps(1) infinite;\n",
              "  }\n",
              "\n",
              "  @keyframes spin {\n",
              "    0% {\n",
              "      border-color: transparent;\n",
              "      border-bottom-color: var(--fill-color);\n",
              "      border-left-color: var(--fill-color);\n",
              "    }\n",
              "    20% {\n",
              "      border-color: transparent;\n",
              "      border-left-color: var(--fill-color);\n",
              "      border-top-color: var(--fill-color);\n",
              "    }\n",
              "    30% {\n",
              "      border-color: transparent;\n",
              "      border-left-color: var(--fill-color);\n",
              "      border-top-color: var(--fill-color);\n",
              "      border-right-color: var(--fill-color);\n",
              "    }\n",
              "    40% {\n",
              "      border-color: transparent;\n",
              "      border-right-color: var(--fill-color);\n",
              "      border-top-color: var(--fill-color);\n",
              "    }\n",
              "    60% {\n",
              "      border-color: transparent;\n",
              "      border-right-color: var(--fill-color);\n",
              "    }\n",
              "    80% {\n",
              "      border-color: transparent;\n",
              "      border-right-color: var(--fill-color);\n",
              "      border-bottom-color: var(--fill-color);\n",
              "    }\n",
              "    90% {\n",
              "      border-color: transparent;\n",
              "      border-bottom-color: var(--fill-color);\n",
              "    }\n",
              "  }\n",
              "</style>\n",
              "\n",
              "  <script>\n",
              "    async function quickchart(key) {\n",
              "      const quickchartButtonEl =\n",
              "        document.querySelector('#' + key + ' button');\n",
              "      quickchartButtonEl.disabled = true;  // To prevent multiple clicks.\n",
              "      quickchartButtonEl.classList.add('colab-df-spinner');\n",
              "      try {\n",
              "        const charts = await google.colab.kernel.invokeFunction(\n",
              "            'suggestCharts', [key], {});\n",
              "      } catch (error) {\n",
              "        console.error('Error during call to suggestCharts:', error);\n",
              "      }\n",
              "      quickchartButtonEl.classList.remove('colab-df-spinner');\n",
              "      quickchartButtonEl.classList.add('colab-df-quickchart-complete');\n",
              "    }\n",
              "    (() => {\n",
              "      let quickchartButtonEl =\n",
              "        document.querySelector('#df-2a6eaf48-9507-4fd1-8c9f-3b1a4793d753 button');\n",
              "      quickchartButtonEl.style.display =\n",
              "        google.colab.kernel.accessAllowed ? 'block' : 'none';\n",
              "    })();\n",
              "  </script>\n",
              "</div>\n",
              "\n",
              "    </div>\n",
              "  </div>\n"
            ],
            "application/vnd.google.colaboratory.intrinsic+json": {
              "type": "dataframe",
              "variable_name": "my_df",
              "summary": "{\n  \"name\": \"my_df\",\n  \"rows\": 150,\n  \"fields\": [\n    {\n      \"column\": \"sepal_length\",\n      \"properties\": {\n        \"dtype\": \"number\",\n        \"std\": 0.8280661279778629,\n        \"min\": 4.3,\n        \"max\": 7.9,\n        \"num_unique_values\": 35,\n        \"samples\": [\n          6.2,\n          4.5,\n          5.6\n        ],\n        \"semantic_type\": \"\",\n        \"description\": \"\"\n      }\n    },\n    {\n      \"column\": \"sepal_width\",\n      \"properties\": {\n        \"dtype\": \"number\",\n        \"std\": 0.4335943113621737,\n        \"min\": 2.0,\n        \"max\": 4.4,\n        \"num_unique_values\": 23,\n        \"samples\": [\n          2.3,\n          4.0,\n          3.5\n        ],\n        \"semantic_type\": \"\",\n        \"description\": \"\"\n      }\n    },\n    {\n      \"column\": \"petal_length\",\n      \"properties\": {\n        \"dtype\": \"number\",\n        \"std\": 1.7644204199522617,\n        \"min\": 1.0,\n        \"max\": 6.9,\n        \"num_unique_values\": 43,\n        \"samples\": [\n          6.7,\n          3.8,\n          3.7\n        ],\n        \"semantic_type\": \"\",\n        \"description\": \"\"\n      }\n    },\n    {\n      \"column\": \"petal_width\",\n      \"properties\": {\n        \"dtype\": \"number\",\n        \"std\": 0.7631607417008414,\n        \"min\": 0.1,\n        \"max\": 2.5,\n        \"num_unique_values\": 22,\n        \"samples\": [\n          0.2,\n          1.2,\n          1.3\n        ],\n        \"semantic_type\": \"\",\n        \"description\": \"\"\n      }\n    },\n    {\n      \"column\": \"species\",\n      \"properties\": {\n        \"dtype\": \"category\",\n        \"num_unique_values\": 3,\n        \"samples\": [\n          \"setosa\",\n          \"versicolor\",\n          \"virginica\"\n        ],\n        \"semantic_type\": \"\",\n        \"description\": \"\"\n      }\n    }\n  ]\n}"
            }
          },
          "metadata": {},
          "execution_count": 118
        }
      ]
    },
    {
      "cell_type": "code",
      "source": [
        "\n",
        "# Changing last column from strings to integers using map()\n",
        "mapping = {'setosa': 0, 'versicolor': 1, 'virginica': 2}\n",
        "my_df['species'] = my_df['species'].map(mapping)\n",
        "\n",
        "my_df\n"
      ],
      "metadata": {
        "colab": {
          "base_uri": "https://localhost:8080/",
          "height": 423
        },
        "id": "GvBTJLZ5Wo6q",
        "outputId": "e3476227-7c0e-4c68-a82d-b2658753af55"
      },
      "execution_count": 119,
      "outputs": [
        {
          "output_type": "execute_result",
          "data": {
            "text/plain": [
              "     sepal_length  sepal_width  petal_length  petal_width  species\n",
              "0             5.1          3.5           1.4          0.2        0\n",
              "1             4.9          3.0           1.4          0.2        0\n",
              "2             4.7          3.2           1.3          0.2        0\n",
              "3             4.6          3.1           1.5          0.2        0\n",
              "4             5.0          3.6           1.4          0.2        0\n",
              "..            ...          ...           ...          ...      ...\n",
              "145           6.7          3.0           5.2          2.3        2\n",
              "146           6.3          2.5           5.0          1.9        2\n",
              "147           6.5          3.0           5.2          2.0        2\n",
              "148           6.2          3.4           5.4          2.3        2\n",
              "149           5.9          3.0           5.1          1.8        2\n",
              "\n",
              "[150 rows x 5 columns]"
            ],
            "text/html": [
              "\n",
              "  <div id=\"df-32637844-71cd-43e4-8ba0-33c30da06e5e\" class=\"colab-df-container\">\n",
              "    <div>\n",
              "<style scoped>\n",
              "    .dataframe tbody tr th:only-of-type {\n",
              "        vertical-align: middle;\n",
              "    }\n",
              "\n",
              "    .dataframe tbody tr th {\n",
              "        vertical-align: top;\n",
              "    }\n",
              "\n",
              "    .dataframe thead th {\n",
              "        text-align: right;\n",
              "    }\n",
              "</style>\n",
              "<table border=\"1\" class=\"dataframe\">\n",
              "  <thead>\n",
              "    <tr style=\"text-align: right;\">\n",
              "      <th></th>\n",
              "      <th>sepal_length</th>\n",
              "      <th>sepal_width</th>\n",
              "      <th>petal_length</th>\n",
              "      <th>petal_width</th>\n",
              "      <th>species</th>\n",
              "    </tr>\n",
              "  </thead>\n",
              "  <tbody>\n",
              "    <tr>\n",
              "      <th>0</th>\n",
              "      <td>5.1</td>\n",
              "      <td>3.5</td>\n",
              "      <td>1.4</td>\n",
              "      <td>0.2</td>\n",
              "      <td>0</td>\n",
              "    </tr>\n",
              "    <tr>\n",
              "      <th>1</th>\n",
              "      <td>4.9</td>\n",
              "      <td>3.0</td>\n",
              "      <td>1.4</td>\n",
              "      <td>0.2</td>\n",
              "      <td>0</td>\n",
              "    </tr>\n",
              "    <tr>\n",
              "      <th>2</th>\n",
              "      <td>4.7</td>\n",
              "      <td>3.2</td>\n",
              "      <td>1.3</td>\n",
              "      <td>0.2</td>\n",
              "      <td>0</td>\n",
              "    </tr>\n",
              "    <tr>\n",
              "      <th>3</th>\n",
              "      <td>4.6</td>\n",
              "      <td>3.1</td>\n",
              "      <td>1.5</td>\n",
              "      <td>0.2</td>\n",
              "      <td>0</td>\n",
              "    </tr>\n",
              "    <tr>\n",
              "      <th>4</th>\n",
              "      <td>5.0</td>\n",
              "      <td>3.6</td>\n",
              "      <td>1.4</td>\n",
              "      <td>0.2</td>\n",
              "      <td>0</td>\n",
              "    </tr>\n",
              "    <tr>\n",
              "      <th>...</th>\n",
              "      <td>...</td>\n",
              "      <td>...</td>\n",
              "      <td>...</td>\n",
              "      <td>...</td>\n",
              "      <td>...</td>\n",
              "    </tr>\n",
              "    <tr>\n",
              "      <th>145</th>\n",
              "      <td>6.7</td>\n",
              "      <td>3.0</td>\n",
              "      <td>5.2</td>\n",
              "      <td>2.3</td>\n",
              "      <td>2</td>\n",
              "    </tr>\n",
              "    <tr>\n",
              "      <th>146</th>\n",
              "      <td>6.3</td>\n",
              "      <td>2.5</td>\n",
              "      <td>5.0</td>\n",
              "      <td>1.9</td>\n",
              "      <td>2</td>\n",
              "    </tr>\n",
              "    <tr>\n",
              "      <th>147</th>\n",
              "      <td>6.5</td>\n",
              "      <td>3.0</td>\n",
              "      <td>5.2</td>\n",
              "      <td>2.0</td>\n",
              "      <td>2</td>\n",
              "    </tr>\n",
              "    <tr>\n",
              "      <th>148</th>\n",
              "      <td>6.2</td>\n",
              "      <td>3.4</td>\n",
              "      <td>5.4</td>\n",
              "      <td>2.3</td>\n",
              "      <td>2</td>\n",
              "    </tr>\n",
              "    <tr>\n",
              "      <th>149</th>\n",
              "      <td>5.9</td>\n",
              "      <td>3.0</td>\n",
              "      <td>5.1</td>\n",
              "      <td>1.8</td>\n",
              "      <td>2</td>\n",
              "    </tr>\n",
              "  </tbody>\n",
              "</table>\n",
              "<p>150 rows × 5 columns</p>\n",
              "</div>\n",
              "    <div class=\"colab-df-buttons\">\n",
              "\n",
              "  <div class=\"colab-df-container\">\n",
              "    <button class=\"colab-df-convert\" onclick=\"convertToInteractive('df-32637844-71cd-43e4-8ba0-33c30da06e5e')\"\n",
              "            title=\"Convert this dataframe to an interactive table.\"\n",
              "            style=\"display:none;\">\n",
              "\n",
              "  <svg xmlns=\"http://www.w3.org/2000/svg\" height=\"24px\" viewBox=\"0 -960 960 960\">\n",
              "    <path d=\"M120-120v-720h720v720H120Zm60-500h600v-160H180v160Zm220 220h160v-160H400v160Zm0 220h160v-160H400v160ZM180-400h160v-160H180v160Zm440 0h160v-160H620v160ZM180-180h160v-160H180v160Zm440 0h160v-160H620v160Z\"/>\n",
              "  </svg>\n",
              "    </button>\n",
              "\n",
              "  <style>\n",
              "    .colab-df-container {\n",
              "      display:flex;\n",
              "      gap: 12px;\n",
              "    }\n",
              "\n",
              "    .colab-df-convert {\n",
              "      background-color: #E8F0FE;\n",
              "      border: none;\n",
              "      border-radius: 50%;\n",
              "      cursor: pointer;\n",
              "      display: none;\n",
              "      fill: #1967D2;\n",
              "      height: 32px;\n",
              "      padding: 0 0 0 0;\n",
              "      width: 32px;\n",
              "    }\n",
              "\n",
              "    .colab-df-convert:hover {\n",
              "      background-color: #E2EBFA;\n",
              "      box-shadow: 0px 1px 2px rgba(60, 64, 67, 0.3), 0px 1px 3px 1px rgba(60, 64, 67, 0.15);\n",
              "      fill: #174EA6;\n",
              "    }\n",
              "\n",
              "    .colab-df-buttons div {\n",
              "      margin-bottom: 4px;\n",
              "    }\n",
              "\n",
              "    [theme=dark] .colab-df-convert {\n",
              "      background-color: #3B4455;\n",
              "      fill: #D2E3FC;\n",
              "    }\n",
              "\n",
              "    [theme=dark] .colab-df-convert:hover {\n",
              "      background-color: #434B5C;\n",
              "      box-shadow: 0px 1px 3px 1px rgba(0, 0, 0, 0.15);\n",
              "      filter: drop-shadow(0px 1px 2px rgba(0, 0, 0, 0.3));\n",
              "      fill: #FFFFFF;\n",
              "    }\n",
              "  </style>\n",
              "\n",
              "    <script>\n",
              "      const buttonEl =\n",
              "        document.querySelector('#df-32637844-71cd-43e4-8ba0-33c30da06e5e button.colab-df-convert');\n",
              "      buttonEl.style.display =\n",
              "        google.colab.kernel.accessAllowed ? 'block' : 'none';\n",
              "\n",
              "      async function convertToInteractive(key) {\n",
              "        const element = document.querySelector('#df-32637844-71cd-43e4-8ba0-33c30da06e5e');\n",
              "        const dataTable =\n",
              "          await google.colab.kernel.invokeFunction('convertToInteractive',\n",
              "                                                    [key], {});\n",
              "        if (!dataTable) return;\n",
              "\n",
              "        const docLinkHtml = 'Like what you see? Visit the ' +\n",
              "          '<a target=\"_blank\" href=https://colab.research.google.com/notebooks/data_table.ipynb>data table notebook</a>'\n",
              "          + ' to learn more about interactive tables.';\n",
              "        element.innerHTML = '';\n",
              "        dataTable['output_type'] = 'display_data';\n",
              "        await google.colab.output.renderOutput(dataTable, element);\n",
              "        const docLink = document.createElement('div');\n",
              "        docLink.innerHTML = docLinkHtml;\n",
              "        element.appendChild(docLink);\n",
              "      }\n",
              "    </script>\n",
              "  </div>\n",
              "\n",
              "\n",
              "<div id=\"df-36f11ca1-59a7-45d4-b805-c7f55cf7f16d\">\n",
              "  <button class=\"colab-df-quickchart\" onclick=\"quickchart('df-36f11ca1-59a7-45d4-b805-c7f55cf7f16d')\"\n",
              "            title=\"Suggest charts\"\n",
              "            style=\"display:none;\">\n",
              "\n",
              "<svg xmlns=\"http://www.w3.org/2000/svg\" height=\"24px\"viewBox=\"0 0 24 24\"\n",
              "     width=\"24px\">\n",
              "    <g>\n",
              "        <path d=\"M19 3H5c-1.1 0-2 .9-2 2v14c0 1.1.9 2 2 2h14c1.1 0 2-.9 2-2V5c0-1.1-.9-2-2-2zM9 17H7v-7h2v7zm4 0h-2V7h2v10zm4 0h-2v-4h2v4z\"/>\n",
              "    </g>\n",
              "</svg>\n",
              "  </button>\n",
              "\n",
              "<style>\n",
              "  .colab-df-quickchart {\n",
              "      --bg-color: #E8F0FE;\n",
              "      --fill-color: #1967D2;\n",
              "      --hover-bg-color: #E2EBFA;\n",
              "      --hover-fill-color: #174EA6;\n",
              "      --disabled-fill-color: #AAA;\n",
              "      --disabled-bg-color: #DDD;\n",
              "  }\n",
              "\n",
              "  [theme=dark] .colab-df-quickchart {\n",
              "      --bg-color: #3B4455;\n",
              "      --fill-color: #D2E3FC;\n",
              "      --hover-bg-color: #434B5C;\n",
              "      --hover-fill-color: #FFFFFF;\n",
              "      --disabled-bg-color: #3B4455;\n",
              "      --disabled-fill-color: #666;\n",
              "  }\n",
              "\n",
              "  .colab-df-quickchart {\n",
              "    background-color: var(--bg-color);\n",
              "    border: none;\n",
              "    border-radius: 50%;\n",
              "    cursor: pointer;\n",
              "    display: none;\n",
              "    fill: var(--fill-color);\n",
              "    height: 32px;\n",
              "    padding: 0;\n",
              "    width: 32px;\n",
              "  }\n",
              "\n",
              "  .colab-df-quickchart:hover {\n",
              "    background-color: var(--hover-bg-color);\n",
              "    box-shadow: 0 1px 2px rgba(60, 64, 67, 0.3), 0 1px 3px 1px rgba(60, 64, 67, 0.15);\n",
              "    fill: var(--button-hover-fill-color);\n",
              "  }\n",
              "\n",
              "  .colab-df-quickchart-complete:disabled,\n",
              "  .colab-df-quickchart-complete:disabled:hover {\n",
              "    background-color: var(--disabled-bg-color);\n",
              "    fill: var(--disabled-fill-color);\n",
              "    box-shadow: none;\n",
              "  }\n",
              "\n",
              "  .colab-df-spinner {\n",
              "    border: 2px solid var(--fill-color);\n",
              "    border-color: transparent;\n",
              "    border-bottom-color: var(--fill-color);\n",
              "    animation:\n",
              "      spin 1s steps(1) infinite;\n",
              "  }\n",
              "\n",
              "  @keyframes spin {\n",
              "    0% {\n",
              "      border-color: transparent;\n",
              "      border-bottom-color: var(--fill-color);\n",
              "      border-left-color: var(--fill-color);\n",
              "    }\n",
              "    20% {\n",
              "      border-color: transparent;\n",
              "      border-left-color: var(--fill-color);\n",
              "      border-top-color: var(--fill-color);\n",
              "    }\n",
              "    30% {\n",
              "      border-color: transparent;\n",
              "      border-left-color: var(--fill-color);\n",
              "      border-top-color: var(--fill-color);\n",
              "      border-right-color: var(--fill-color);\n",
              "    }\n",
              "    40% {\n",
              "      border-color: transparent;\n",
              "      border-right-color: var(--fill-color);\n",
              "      border-top-color: var(--fill-color);\n",
              "    }\n",
              "    60% {\n",
              "      border-color: transparent;\n",
              "      border-right-color: var(--fill-color);\n",
              "    }\n",
              "    80% {\n",
              "      border-color: transparent;\n",
              "      border-right-color: var(--fill-color);\n",
              "      border-bottom-color: var(--fill-color);\n",
              "    }\n",
              "    90% {\n",
              "      border-color: transparent;\n",
              "      border-bottom-color: var(--fill-color);\n",
              "    }\n",
              "  }\n",
              "</style>\n",
              "\n",
              "  <script>\n",
              "    async function quickchart(key) {\n",
              "      const quickchartButtonEl =\n",
              "        document.querySelector('#' + key + ' button');\n",
              "      quickchartButtonEl.disabled = true;  // To prevent multiple clicks.\n",
              "      quickchartButtonEl.classList.add('colab-df-spinner');\n",
              "      try {\n",
              "        const charts = await google.colab.kernel.invokeFunction(\n",
              "            'suggestCharts', [key], {});\n",
              "      } catch (error) {\n",
              "        console.error('Error during call to suggestCharts:', error);\n",
              "      }\n",
              "      quickchartButtonEl.classList.remove('colab-df-spinner');\n",
              "      quickchartButtonEl.classList.add('colab-df-quickchart-complete');\n",
              "    }\n",
              "    (() => {\n",
              "      let quickchartButtonEl =\n",
              "        document.querySelector('#df-36f11ca1-59a7-45d4-b805-c7f55cf7f16d button');\n",
              "      quickchartButtonEl.style.display =\n",
              "        google.colab.kernel.accessAllowed ? 'block' : 'none';\n",
              "    })();\n",
              "  </script>\n",
              "</div>\n",
              "\n",
              "  <div id=\"id_b7bc2e5a-7bd6-4279-b089-ea787248f343\">\n",
              "    <style>\n",
              "      .colab-df-generate {\n",
              "        background-color: #E8F0FE;\n",
              "        border: none;\n",
              "        border-radius: 50%;\n",
              "        cursor: pointer;\n",
              "        display: none;\n",
              "        fill: #1967D2;\n",
              "        height: 32px;\n",
              "        padding: 0 0 0 0;\n",
              "        width: 32px;\n",
              "      }\n",
              "\n",
              "      .colab-df-generate:hover {\n",
              "        background-color: #E2EBFA;\n",
              "        box-shadow: 0px 1px 2px rgba(60, 64, 67, 0.3), 0px 1px 3px 1px rgba(60, 64, 67, 0.15);\n",
              "        fill: #174EA6;\n",
              "      }\n",
              "\n",
              "      [theme=dark] .colab-df-generate {\n",
              "        background-color: #3B4455;\n",
              "        fill: #D2E3FC;\n",
              "      }\n",
              "\n",
              "      [theme=dark] .colab-df-generate:hover {\n",
              "        background-color: #434B5C;\n",
              "        box-shadow: 0px 1px 3px 1px rgba(0, 0, 0, 0.15);\n",
              "        filter: drop-shadow(0px 1px 2px rgba(0, 0, 0, 0.3));\n",
              "        fill: #FFFFFF;\n",
              "      }\n",
              "    </style>\n",
              "    <button class=\"colab-df-generate\" onclick=\"generateWithVariable('my_df')\"\n",
              "            title=\"Generate code using this dataframe.\"\n",
              "            style=\"display:none;\">\n",
              "\n",
              "  <svg xmlns=\"http://www.w3.org/2000/svg\" height=\"24px\"viewBox=\"0 0 24 24\"\n",
              "       width=\"24px\">\n",
              "    <path d=\"M7,19H8.4L18.45,9,17,7.55,7,17.6ZM5,21V16.75L18.45,3.32a2,2,0,0,1,2.83,0l1.4,1.43a1.91,1.91,0,0,1,.58,1.4,1.91,1.91,0,0,1-.58,1.4L9.25,21ZM18.45,9,17,7.55Zm-12,3A5.31,5.31,0,0,0,4.9,8.1,5.31,5.31,0,0,0,1,6.5,5.31,5.31,0,0,0,4.9,4.9,5.31,5.31,0,0,0,6.5,1,5.31,5.31,0,0,0,8.1,4.9,5.31,5.31,0,0,0,12,6.5,5.46,5.46,0,0,0,6.5,12Z\"/>\n",
              "  </svg>\n",
              "    </button>\n",
              "    <script>\n",
              "      (() => {\n",
              "      const buttonEl =\n",
              "        document.querySelector('#id_b7bc2e5a-7bd6-4279-b089-ea787248f343 button.colab-df-generate');\n",
              "      buttonEl.style.display =\n",
              "        google.colab.kernel.accessAllowed ? 'block' : 'none';\n",
              "\n",
              "      buttonEl.onclick = () => {\n",
              "        google.colab.notebook.generateWithVariable('my_df');\n",
              "      }\n",
              "      })();\n",
              "    </script>\n",
              "  </div>\n",
              "\n",
              "    </div>\n",
              "  </div>\n"
            ],
            "application/vnd.google.colaboratory.intrinsic+json": {
              "type": "dataframe",
              "variable_name": "my_df",
              "summary": "{\n  \"name\": \"my_df\",\n  \"rows\": 150,\n  \"fields\": [\n    {\n      \"column\": \"sepal_length\",\n      \"properties\": {\n        \"dtype\": \"number\",\n        \"std\": 0.8280661279778629,\n        \"min\": 4.3,\n        \"max\": 7.9,\n        \"num_unique_values\": 35,\n        \"samples\": [\n          6.2,\n          4.5,\n          5.6\n        ],\n        \"semantic_type\": \"\",\n        \"description\": \"\"\n      }\n    },\n    {\n      \"column\": \"sepal_width\",\n      \"properties\": {\n        \"dtype\": \"number\",\n        \"std\": 0.4335943113621737,\n        \"min\": 2.0,\n        \"max\": 4.4,\n        \"num_unique_values\": 23,\n        \"samples\": [\n          2.3,\n          4.0,\n          3.5\n        ],\n        \"semantic_type\": \"\",\n        \"description\": \"\"\n      }\n    },\n    {\n      \"column\": \"petal_length\",\n      \"properties\": {\n        \"dtype\": \"number\",\n        \"std\": 1.7644204199522617,\n        \"min\": 1.0,\n        \"max\": 6.9,\n        \"num_unique_values\": 43,\n        \"samples\": [\n          6.7,\n          3.8,\n          3.7\n        ],\n        \"semantic_type\": \"\",\n        \"description\": \"\"\n      }\n    },\n    {\n      \"column\": \"petal_width\",\n      \"properties\": {\n        \"dtype\": \"number\",\n        \"std\": 0.7631607417008414,\n        \"min\": 0.1,\n        \"max\": 2.5,\n        \"num_unique_values\": 22,\n        \"samples\": [\n          0.2,\n          1.2,\n          1.3\n        ],\n        \"semantic_type\": \"\",\n        \"description\": \"\"\n      }\n    },\n    {\n      \"column\": \"species\",\n      \"properties\": {\n        \"dtype\": \"number\",\n        \"std\": 0,\n        \"min\": 0,\n        \"max\": 2,\n        \"num_unique_values\": 3,\n        \"samples\": [\n          0,\n          1,\n          2\n        ],\n        \"semantic_type\": \"\",\n        \"description\": \"\"\n      }\n    }\n  ]\n}"
            }
          },
          "metadata": {},
          "execution_count": 119
        }
      ]
    },
    {
      "cell_type": "markdown",
      "source": [
        "**Some Basic Setting**"
      ],
      "metadata": {
        "id": "oSvy1j2NfrLl"
      }
    },
    {
      "cell_type": "code",
      "source": [
        "# Train Test and Split !  Set X,y   X is always features and y is always the outcome\n",
        "X = my_df.drop('species', axis=1 )\n",
        "y = my_df['species']\n"
      ],
      "metadata": {
        "id": "Vsu5-f9PYg6y"
      },
      "execution_count": 120,
      "outputs": []
    },
    {
      "cell_type": "code",
      "source": [
        "# Convert these to numpy arrays\n",
        "X = X.values\n",
        "y = y.values"
      ],
      "metadata": {
        "id": "Shm2uPDsZBES"
      },
      "execution_count": 121,
      "outputs": []
    },
    {
      "cell_type": "code",
      "source": [
        "from sklearn.model_selection import train_test_split\n"
      ],
      "metadata": {
        "id": "gECjOKh7Zak5"
      },
      "execution_count": 122,
      "outputs": []
    },
    {
      "cell_type": "code",
      "source": [
        "# Train Test Split\n",
        "X_train, X_test, y_train, y_test = train_test_split(X,y,test_size=0.2, random_state=41) #test_size is 20%"
      ],
      "metadata": {
        "id": "kw4oxGx3ZjNW"
      },
      "execution_count": 123,
      "outputs": []
    },
    {
      "cell_type": "code",
      "source": [
        "#Convert X featurs to float tensors\n",
        "X_train = torch.FloatTensor(X_train)\n",
        "X_test = torch.FloatTensor(X_test)"
      ],
      "metadata": {
        "id": "klpeET8FaCLs"
      },
      "execution_count": 124,
      "outputs": []
    },
    {
      "cell_type": "code",
      "source": [
        "#Convert y labels to tensors long 64bit integers\n",
        "y_train = torch.LongTensor(y_train)\n",
        "y_test = torch.LongTensor(y_test)"
      ],
      "metadata": {
        "id": "LUJ-STblaX1l"
      },
      "execution_count": 125,
      "outputs": []
    },
    {
      "cell_type": "code",
      "source": [
        "#Set the Criterion of model to measure the error, how far off the prediction are from the data\n",
        "criterion = nn.CrossEntropyLoss()\n",
        "#Choose Optimizer\n",
        "#We choose Adam Optimizer lr = learning rate( if error doesn't go down after bunch of iterations, lower our lr)\n",
        "#lower the lr longer it takes to learn\n",
        "optimizer = torch.optim.Adam(model.parameters(), lr=0.01)\n"
      ],
      "metadata": {
        "id": "mX7ARSyPaxRz"
      },
      "execution_count": 126,
      "outputs": []
    },
    {
      "cell_type": "code",
      "source": [
        "model.parameters"
      ],
      "metadata": {
        "colab": {
          "base_uri": "https://localhost:8080/",
          "height": 186
        },
        "id": "PB8_guGUcPz8",
        "outputId": "c73db550-5d46-453b-dc5e-7d61304d8739"
      },
      "execution_count": 127,
      "outputs": [
        {
          "output_type": "execute_result",
          "data": {
            "text/plain": [
              "<bound method Module.parameters of Model(\n",
              "  (fc1): Linear(in_features=4, out_features=8, bias=True)\n",
              "  (fc2): Linear(in_features=8, out_features=9, bias=True)\n",
              "  (out): Linear(in_features=9, out_features=3, bias=True)\n",
              ")>"
            ],
            "text/html": [
              "<div style=\"max-width:800px; border: 1px solid var(--colab-border-color);\"><style>\n",
              "      pre.function-repr-contents {\n",
              "        overflow-x: auto;\n",
              "        padding: 8px 12px;\n",
              "        max-height: 500px;\n",
              "      }\n",
              "\n",
              "      pre.function-repr-contents.function-repr-contents-collapsed {\n",
              "        cursor: pointer;\n",
              "        max-height: 100px;\n",
              "      }\n",
              "    </style>\n",
              "    <pre style=\"white-space: initial; background:\n",
              "         var(--colab-secondary-surface-color); padding: 8px 12px;\n",
              "         border-bottom: 1px solid var(--colab-border-color);\"><b>torch.nn.modules.module.Module.parameters</b><br/>def parameters(recurse: bool=True) -&gt; Iterator[Parameter]</pre><pre class=\"function-repr-contents function-repr-contents-collapsed\" style=\"\"><a class=\"filepath\" style=\"display:none\" href=\"#\">/usr/local/lib/python3.10/dist-packages/torch/nn/modules/module.py</a>Return an iterator over module parameters.\n",
              "\n",
              "This is typically passed to an optimizer.\n",
              "\n",
              "Args:\n",
              "    recurse (bool): if True, then yields parameters of this module\n",
              "        and all submodules. Otherwise, yields only parameters that\n",
              "        are direct members of this module.\n",
              "\n",
              "Yields:\n",
              "    Parameter: module parameter\n",
              "\n",
              "Example::\n",
              "\n",
              "    &gt;&gt;&gt; # xdoctest: +SKIP(&quot;undefined vars&quot;)\n",
              "    &gt;&gt;&gt; for param in model.parameters():\n",
              "    &gt;&gt;&gt;     print(type(param), param.size())\n",
              "    &lt;class &#x27;torch.Tensor&#x27;&gt; (20L,)\n",
              "    &lt;class &#x27;torch.Tensor&#x27;&gt; (20L, 1L, 5L, 5L)</pre>\n",
              "      <script>\n",
              "      if (google.colab.kernel.accessAllowed && google.colab.files && google.colab.files.view) {\n",
              "        for (const element of document.querySelectorAll('.filepath')) {\n",
              "          element.style.display = 'block'\n",
              "          element.onclick = (event) => {\n",
              "            event.preventDefault();\n",
              "            event.stopPropagation();\n",
              "            google.colab.files.view(element.textContent, 2233);\n",
              "          };\n",
              "        }\n",
              "      }\n",
              "      for (const element of document.querySelectorAll('.function-repr-contents')) {\n",
              "        element.onclick = (event) => {\n",
              "          event.preventDefault();\n",
              "          event.stopPropagation();\n",
              "          element.classList.toggle('function-repr-contents-collapsed');\n",
              "        };\n",
              "      }\n",
              "      </script>\n",
              "      </div>"
            ]
          },
          "metadata": {},
          "execution_count": 127
        }
      ]
    },
    {
      "cell_type": "markdown",
      "source": [
        "**Training our Model**"
      ],
      "metadata": {
        "id": "K8fwZtMmfwf0"
      }
    },
    {
      "cell_type": "code",
      "source": [
        "#Train our model\n",
        "# Epochs? (one run thrugh all the training data in our network )\n",
        "epochs = 100\n",
        "losses = []\n",
        "for i in range(epochs):\n",
        "  # Go forward and get prediction\n",
        "  y_pred = model.forward(X_train)  #Get predicted results\n",
        "\n",
        "  # Measure the loss/error , gonna be high at first\n",
        "  loss = criterion(y_pred, y_train) # predicted value vs the y_train\n",
        "\n",
        "  # Keep Track of our losses\n",
        "  losses.append(loss.detach().numpy())\n",
        "\n",
        "  # print every 10 epoch\n",
        "  if i % 10 == 0 :\n",
        "    print(f'Epoch: {i} and loss: {loss}')\n",
        "\n",
        "  #Do some back propagation : take the error rate of forward propagation and feed it back\n",
        "  #through the network to fine tune the weights\n",
        "  optimizer.zero_grad()\n",
        "  loss.backward()\n",
        "  optimizer.step()"
      ],
      "metadata": {
        "colab": {
          "base_uri": "https://localhost:8080/"
        },
        "id": "9FCGRSg8cS7m",
        "outputId": "dd19de53-cf81-478d-c1dc-cf6be3edb598"
      },
      "execution_count": 128,
      "outputs": [
        {
          "output_type": "stream",
          "name": "stdout",
          "text": [
            "Epoch: 0 and loss: 1.1251550912857056\n",
            "Epoch: 10 and loss: 1.0096259117126465\n",
            "Epoch: 20 and loss: 0.8157405853271484\n",
            "Epoch: 30 and loss: 0.585706353187561\n",
            "Epoch: 40 and loss: 0.3999636471271515\n",
            "Epoch: 50 and loss: 0.26768800616264343\n",
            "Epoch: 60 and loss: 0.17942361533641815\n",
            "Epoch: 70 and loss: 0.12151690572500229\n",
            "Epoch: 80 and loss: 0.0860118493437767\n",
            "Epoch: 90 and loss: 0.06520850956439972\n"
          ]
        }
      ]
    },
    {
      "cell_type": "code",
      "source": [
        "# graph it out!\n",
        "plt.plot(range(epochs),losses)\n",
        "plt.ylabel(\"loss/error\")\n",
        "plt.xlabel(\"epoch\")"
      ],
      "metadata": {
        "colab": {
          "base_uri": "https://localhost:8080/",
          "height": 466
        },
        "id": "-yqdNaCTeVYm",
        "outputId": "82e48f5d-b739-4d59-90fa-0f89e9bc092c"
      },
      "execution_count": 129,
      "outputs": [
        {
          "output_type": "execute_result",
          "data": {
            "text/plain": [
              "Text(0.5, 0, 'epoch')"
            ]
          },
          "metadata": {},
          "execution_count": 129
        },
        {
          "output_type": "display_data",
          "data": {
            "text/plain": [
              "<Figure size 640x480 with 1 Axes>"
            ],
            "image/png": "[encoded data removed]"
          },
          "metadata": {}
        }
      ]
    },
    {
      "cell_type": "markdown",
      "source": [
        "# Evaluation of Test Data Set On Network"
      ],
      "metadata": {
        "id": "ALiVaw5igzcx"
      }
    },
    {
      "cell_type": "code",
      "source": [
        "# Evaluate model on test data set (validate model on test set)\n",
        "\n",
        "with torch.no_grad(): #basically turn off back propagation\n",
        " y_eval = model.forward(X_test) # X_test are features from our test set, y_eval will be predictions\n",
        " loss = criterion(y_eval, y_test) # Find the loss or error\n",
        "\n"
      ],
      "metadata": {
        "id": "m5vvkc5re6CW"
      },
      "execution_count": 130,
      "outputs": []
    },
    {
      "cell_type": "code",
      "source": [
        "loss # tensor(0.1315) it's not great"
      ],
      "metadata": {
        "colab": {
          "base_uri": "https://localhost:8080/"
        },
        "id": "0vEMPW4vmwZZ",
        "outputId": "7efd91f1-57b3-40e2-a186-93a81eb677d6"
      },
      "execution_count": 131,
      "outputs": [
        {
          "output_type": "execute_result",
          "data": {
            "text/plain": [
              "tensor(0.1315)"
            ]
          },
          "metadata": {},
          "execution_count": 131
        }
      ]
    },
    {
      "cell_type": "markdown",
      "source": [
        "Let's see how the network did on our test data vs the actual training data"
      ],
      "metadata": {
        "id": "DmXZd_NFnFZZ"
      }
    },
    {
      "cell_type": "code",
      "source": [
        "correct = 0\n",
        "with torch.no_grad():\n",
        "  for i, data in enumerate(X_test) :\n",
        "    y_val = model.forward(data)\n",
        "\n",
        "    #will tell us what type of flower class our network think it is\n",
        "    print(f'{i+1}.) {str(y_val)} \\t {y_test[i]}')\n",
        "    # column1 is 0(setosa) column2 is 1(versicolor) column3 is 2(virginica)\n",
        "    # the higher number is what network think the flower is"
      ],
      "metadata": {
        "colab": {
          "base_uri": "https://localhost:8080/"
        },
        "id": "_CFMsyNymxeQ",
        "outputId": "30bf9893-773a-43eb-9f93-259f1d1178d1"
      },
      "execution_count": 132,
      "outputs": [
        {
          "output_type": "stream",
          "name": "stdout",
          "text": [
            "1.) tensor([-5.8760,  4.4628,  6.5124]) \t 2\n",
            "2.) tensor([-7.5436,  4.1670,  9.7255]) \t 2\n",
            "3.) tensor([-8.4504,  5.1271, 10.1987]) \t 2\n",
            "4.) tensor([-4.3398,  5.6267,  2.5608]) \t 1\n",
            "5.) tensor([-7.1825,  4.8754,  8.2992]) \t 2\n",
            "6.) tensor([-3.3974,  5.3463,  1.2803]) \t 1\n",
            "7.) tensor([-5.9231,  4.9822,  5.9997]) \t 2\n",
            "8.) tensor([-4.2881,  5.7003,  2.3889]) \t 1\n",
            "9.) tensor([-6.5356,  4.9257,  7.1260]) \t 2\n",
            "10.) tensor([-8.0509,  4.4129, 10.3286]) \t 2\n",
            "11.) tensor([-5.6762,  4.9500,  5.6215]) \t 2\n",
            "12.) tensor([ 4.5662, -2.2476, -2.8911]) \t 0\n",
            "13.) tensor([ 4.2571, -1.9967, -2.7330]) \t 0\n",
            "14.) tensor([-2.1108,  4.0515,  0.5799]) \t 1\n",
            "15.) tensor([ 3.4575, -1.2098, -2.3514]) \t 0\n",
            "16.) tensor([-5.4724,  5.1165,  5.0934]) \t 2\n",
            "17.) tensor([ 4.0557, -1.7949, -2.6492]) \t 0\n",
            "18.) tensor([-5.8075,  4.6053,  6.2458]) \t 1\n",
            "19.) tensor([ 4.4343, -2.1392, -2.8242]) \t 0\n",
            "20.) tensor([ 3.4528, -1.2514, -2.3660]) \t 0\n",
            "21.) tensor([-2.6189,  4.5619,  0.8574]) \t 1\n",
            "22.) tensor([-7.7412,  4.7377,  9.4199]) \t 2\n",
            "23.) tensor([ 3.5744, -1.3221, -2.4135]) \t 0\n",
            "24.) tensor([ 4.5365, -2.2383, -2.8684]) \t 0\n",
            "25.) tensor([-2.6579,  4.6177,  0.8823]) \t 1\n",
            "26.) tensor([-3.2865,  5.2229,  1.2164]) \t 1\n",
            "27.) tensor([-4.6514,  5.7776,  2.9273]) \t 1\n",
            "28.) tensor([-2.9464,  4.8892,  1.0379]) \t 1\n",
            "29.) tensor([ 4.5847, -2.2687, -2.8974]) \t 0\n",
            "30.) tensor([-4.5784,  5.4554,  3.1660]) \t 1\n"
          ]
        }
      ]
    },
    {
      "cell_type": "code",
      "source": [
        "correct = 0\n",
        "with torch.no_grad():\n",
        "  for i, data in enumerate(X_test) :\n",
        "    y_val = model.forward(data)\n",
        "\n",
        "    # Will tell us what type of flower class our network think it is\n",
        "    print(f' {i+1})\\t {str(y_val)} \\t {y_test[i]} \\t {y_val.argmax().item()} ' )\n",
        "\n",
        "    # Correct or Not\n",
        "    if y_val.argmax().item() == y_test[i]:\n",
        "      correct +=1\n",
        "\n",
        "\n",
        "print(f'We got {correct} correct!')\n",
        "\n",
        "# changing the seed will get different numbers"
      ],
      "metadata": {
        "colab": {
          "base_uri": "https://localhost:8080/"
        },
        "id": "Lh2BZCFbn4Vv",
        "outputId": "8902bb31-fb07-4c9f-e28f-4cb89b743547"
      },
      "execution_count": 133,
      "outputs": [
        {
          "output_type": "stream",
          "name": "stdout",
          "text": [
            " 1)\t tensor([-5.8760,  4.4628,  6.5124]) \t 2 \t 2 \n",
            " 2)\t tensor([-7.5436,  4.1670,  9.7255]) \t 2 \t 2 \n",
            " 3)\t tensor([-8.4504,  5.1271, 10.1987]) \t 2 \t 2 \n",
            " 4)\t tensor([-4.3398,  5.6267,  2.5608]) \t 1 \t 1 \n",
            " 5)\t tensor([-7.1825,  4.8754,  8.2992]) \t 2 \t 2 \n",
            " 6)\t tensor([-3.3974,  5.3463,  1.2803]) \t 1 \t 1 \n",
            " 7)\t tensor([-5.9231,  4.9822,  5.9997]) \t 2 \t 2 \n",
            " 8)\t tensor([-4.2881,  5.7003,  2.3889]) \t 1 \t 1 \n",
            " 9)\t tensor([-6.5356,  4.9257,  7.1260]) \t 2 \t 2 \n",
            " 10)\t tensor([-8.0509,  4.4129, 10.3286]) \t 2 \t 2 \n",
            " 11)\t tensor([-5.6762,  4.9500,  5.6215]) \t 2 \t 2 \n",
            " 12)\t tensor([ 4.5662, -2.2476, -2.8911]) \t 0 \t 0 \n",
            " 13)\t tensor([ 4.2571, -1.9967, -2.7330]) \t 0 \t 0 \n",
            " 14)\t tensor([-2.1108,  4.0515,  0.5799]) \t 1 \t 1 \n",
            " 15)\t tensor([ 3.4575, -1.2098, -2.3514]) \t 0 \t 0 \n",
            " 16)\t tensor([-5.4724,  5.1165,  5.0934]) \t 2 \t 1 \n",
            " 17)\t tensor([ 4.0557, -1.7949, -2.6492]) \t 0 \t 0 \n",
            " 18)\t tensor([-5.8075,  4.6053,  6.2458]) \t 1 \t 2 \n",
            " 19)\t tensor([ 4.4343, -2.1392, -2.8242]) \t 0 \t 0 \n",
            " 20)\t tensor([ 3.4528, -1.2514, -2.3660]) \t 0 \t 0 \n",
            " 21)\t tensor([-2.6189,  4.5619,  0.8574]) \t 1 \t 1 \n",
            " 22)\t tensor([-7.7412,  4.7377,  9.4199]) \t 2 \t 2 \n",
            " 23)\t tensor([ 3.5744, -1.3221, -2.4135]) \t 0 \t 0 \n",
            " 24)\t tensor([ 4.5365, -2.2383, -2.8684]) \t 0 \t 0 \n",
            " 25)\t tensor([-2.6579,  4.6177,  0.8823]) \t 1 \t 1 \n",
            " 26)\t tensor([-3.2865,  5.2229,  1.2164]) \t 1 \t 1 \n",
            " 27)\t tensor([-4.6514,  5.7776,  2.9273]) \t 1 \t 1 \n",
            " 28)\t tensor([-2.9464,  4.8892,  1.0379]) \t 1 \t 1 \n",
            " 29)\t tensor([ 4.5847, -2.2687, -2.8974]) \t 0 \t 0 \n",
            " 30)\t tensor([-4.5784,  5.4554,  3.1660]) \t 1 \t 1 \n",
            "We got 28 correct!\n"
          ]
        }
      ]
    },
    {
      "cell_type": "markdown",
      "source": [
        "**Evaluate New Data On The Network**"
      ],
      "metadata": {
        "id": "48m6XxDjrLGj"
      }
    },
    {
      "cell_type": "code",
      "source": [
        "new_iris = torch.tensor([4.7,3.2,1.3,0.2]) #adding new data"
      ],
      "metadata": {
        "id": "UrNfV8R9pFSS"
      },
      "execution_count": 134,
      "outputs": []
    },
    {
      "cell_type": "code",
      "source": [
        "with torch.no_grad():\n",
        "  print(model(new_iris))\n",
        "\n",
        "#this give us immedialy result of added data after push it into the network"
      ],
      "metadata": {
        "colab": {
          "base_uri": "https://localhost:8080/"
        },
        "id": "DLCzP2wLCbo1",
        "outputId": "52e4985a-2b1a-4929-a18b-5320a478e839"
      },
      "execution_count": 135,
      "outputs": [
        {
          "output_type": "stream",
          "name": "stdout",
          "text": [
            "tensor([ 4.5365, -2.2383, -2.8684])\n"
          ]
        }
      ]
    },
    {
      "cell_type": "markdown",
      "source": [
        "# Save and Load Neural Network Model"
      ],
      "metadata": {
        "id": "WFvnnrxgEqdP"
      }
    },
    {
      "cell_type": "code",
      "source": [
        "# Save our NN model\n",
        "torch.save(model.state_dict(),'my_really_awsome_iris_model_pt')\n"
      ],
      "metadata": {
        "id": "ol0koqGjC06e"
      },
      "execution_count": 136,
      "outputs": []
    },
    {
      "cell_type": "code",
      "source": [
        "# Load our Saved Model\n",
        "new_model = Model()\n",
        "new_model.load_state_dict(torch.load('my_really_awsome_iris_model_pt'))"
      ],
      "metadata": {
        "colab": {
          "base_uri": "https://localhost:8080/"
        },
        "id": "KFrTJ7R1E8Ue",
        "outputId": "578f5e1e-cccd-4f09-eedb-7f167051808e"
      },
      "execution_count": 137,
      "outputs": [
        {
          "output_type": "stream",
          "name": "stderr",
          "text": [
            "<ipython-input-137-ac20848fa187>:3: FutureWarning: You are using `torch.load` with `weights_only=False` (the current default value), which uses the default pickle module implicitly. It is possible to construct malicious pickle data which will execute arbitrary code during unpickling (See https://github.com/pytorch/pytorch/blob/main/SECURITY.md#untrusted-models for more details). In a future release, the default value for `weights_only` will be flipped to `True`. This limits the functions that could be executed during unpickling. Arbitrary objects will no longer be allowed to be loaded via this mode unless they are explicitly allowlisted by the user via `torch.serialization.add_safe_globals`. We recommend you start setting `weights_only=True` for any use case where you don't have full control of the loaded file. Please open an issue on GitHub for any issues related to this experimental feature.\n",
            "  new_model.load_state_dict(torch.load('my_really_awsome_iris_model_pt'))\n"
          ]
        },
        {
          "output_type": "execute_result",
          "data": {
            "text/plain": [
              "<All keys matched successfully>"
            ]
          },
          "metadata": {},
          "execution_count": 137
        }
      ]
    },
    {
      "cell_type": "code",
      "source": [
        "# Make sure it loaded correctly\n",
        "new_model.eval()\n"
      ],
      "metadata": {
        "colab": {
          "base_uri": "https://localhost:8080/"
        },
        "id": "78MoHe7CH7rj",
        "outputId": "ad996802-bb51-458d-c608-81543c41ea22"
      },
      "execution_count": 138,
      "outputs": [
        {
          "output_type": "execute_result",
          "data": {
            "text/plain": [
              "Model(\n",
              "  (fc1): Linear(in_features=4, out_features=8, bias=True)\n",
              "  (fc2): Linear(in_features=8, out_features=9, bias=True)\n",
              "  (out): Linear(in_features=9, out_features=3, bias=True)\n",
              ")"
            ]
          },
          "metadata": {},
          "execution_count": 138
        }
      ]
    },
    {
      "cell_type": "code",
      "source": [],
      "metadata": {
        "id": "ABY4MejfIMET"
      },
      "execution_count": 138,
      "outputs": []
    }
  ]
}