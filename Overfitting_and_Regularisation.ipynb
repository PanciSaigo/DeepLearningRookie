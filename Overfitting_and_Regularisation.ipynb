{
  "cells": [
    {
      "cell_type": "markdown",
      "metadata": {
        "id": "view-in-github",
        "colab_type": "text"
      },
      "source": [
        "<a href=\"https://colab.research.google.com/github/PanciSaigo/DeepLearningRookie/blob/main/Overfitting_and_Regularisation.ipynb\" target=\"_parent\"><img src=\"https://colab.research.google.com/assets/colab-badge.svg\" alt=\"Open In Colab\"/></a>"
      ]
    },
    {
      "cell_type": "markdown",
      "metadata": {
        "id": "X5i0sMFDr5jO"
      },
      "source": [
        "# Artificial Neural Networks and Deep Learning\n",
        "\n",
        "---\n",
        "\n",
        "## Lecture 2: Overfitting and Regularisation"
      ]
    },
    {
      "cell_type": "markdown",
      "metadata": {
        "id": "omSLbdLvhDRx"
      },
      "source": [
        "### 🌐 Connect Colab to Google Drive"
      ]
    },
    {
      "cell_type": "code",
      "execution_count": null,
      "metadata": {
        "id": "AoaLQpvChLpb"
      },
      "outputs": [],
      "source": [
        "from google.colab import drive\n",
        "drive.mount('/gdrive')\n",
        "%cd /gdrive/My Drive/[2024-2025] AN2DL/Lecture 2"
      ]
    },
    {
      "cell_type": "markdown",
      "metadata": {
        "id": "l3FoTyRa9pLu"
      },
      "source": [
        "### ⚙️ Import Libraries"
      ]
    },
    {
      "cell_type": "code",
      "execution_count": null,
      "metadata": {
        "id": "f_sOaV1Y8NsL"
      },
      "outputs": [],
      "source": [
        "# Fix randomness and hide warnings\n",
        "seed = 42\n",
        "\n",
        "import os\n",
        "os.environ['TF_CPP_MIN_LOG_LEVEL'] = '3'\n",
        "os.environ['PYTHONHASHSEED'] = str(seed)\n",
        "os.environ['MPLCONFIGDIR'] = os.getcwd()+'/configs/'\n",
        "\n",
        "import warnings\n",
        "warnings.simplefilter(action='ignore', category=FutureWarning)\n",
        "warnings.simplefilter(action='ignore', category=Warning)\n",
        "\n",
        "import numpy as np\n",
        "np.random.seed(seed)\n",
        "\n",
        "import logging\n",
        "\n",
        "import random\n",
        "random.seed(seed)\n",
        "\n",
        "# Import tensorflow\n",
        "import tensorflow as tf\n",
        "from tensorflow import keras as tfk\n",
        "from tensorflow.keras import layers as tfkl\n",
        "tf.autograph.set_verbosity(0)\n",
        "tf.get_logger().setLevel(logging.ERROR)\n",
        "tf.random.set_seed(seed)\n",
        "print(f\"TensorFlow version {tf.__version__}\")\n",
        "\n",
        "# Import other libraries\n",
        "import pandas as pd\n",
        "import matplotlib as mpl\n",
        "import matplotlib.pyplot as plt\n",
        "import matplotlib.ticker as ticker\n",
        "plt.rc('font', size=14)\n",
        "%matplotlib inline\n",
        "import seaborn as sns\n",
        "sns.set(font_scale=1.4)\n",
        "sns.set_style('white')\n",
        "from pandas.plotting import scatter_matrix\n",
        "from sklearn.datasets import fetch_california_housing\n",
        "from sklearn.model_selection import train_test_split, KFold\n",
        "from sklearn.metrics import mean_squared_error"
      ]
    },
    {
      "cell_type": "markdown",
      "metadata": {
        "id": "TCaGhb5ttXGc"
      },
      "source": [
        "### ⏳ Load Data"
      ]
    },
    {
      "cell_type": "code",
      "execution_count": null,
      "metadata": {
        "id": "MxEwCjfpt_6W"
      },
      "outputs": [],
      "source": [
        "# Load the California Housing dataset into a variable called 'data'\n",
        "data = fetch_california_housing(as_frame=True)\n",
        "\n",
        "# Print the description of the California Housing dataset\n",
        "print(data.DESCR)"
      ]
    },
    {
      "cell_type": "markdown",
      "metadata": {
        "id": "0tBFI667ufUQ"
      },
      "source": [
        "<img src=\"https://i0.wp.com/studentwork.prattsi.org/infovis/wp-content/uploads/sites/3/2021/05/final-1.png?w=1364&ssl=1\" width=\"900\">"
      ]
    },
    {
      "cell_type": "markdown",
      "metadata": {
        "id": "kTu9Ca0L1Du2"
      },
      "source": [
        "### 🔎 Inspect Data"
      ]
    },
    {
      "cell_type": "code",
      "execution_count": null,
      "metadata": {
        "id": "P485pmX1uvBf"
      },
      "outputs": [],
      "source": [
        "# Create a DataFrame 'housing_dataset' from the California Housing dataset\n",
        "housing_dataset = data.frame\n",
        "print('California Housing dataset shape', housing_dataset.shape)\n",
        "\n",
        "# Display the first 10 rows of the California Housing dataset\n",
        "housing_dataset.head(10)"
      ]
    },
    {
      "cell_type": "code",
      "execution_count": null,
      "metadata": {
        "id": "gBZgisH81IK9"
      },
      "outputs": [],
      "source": [
        "# Print the shape of the California Housing dataset\n",
        "print('California Housing dataset shape', housing_dataset.shape)\n",
        "\n",
        "# Generate summary statistics for the California Housing dataset\n",
        "housing_dataset.describe()"
      ]
    },
    {
      "cell_type": "code",
      "source": [
        "# Set Seaborn theme with white grid style\n",
        "sns.set_theme(style=\"whitegrid\")\n",
        "\n",
        "# Define a harmonious colour palette\n",
        "palette = sns.color_palette(\"viridis\", n_colors=9)\n",
        "\n",
        "# Generate the figure and axes for subplots\n",
        "fig, axes = plt.subplots(nrows=3, ncols=3, figsize=(16, 10), sharex=False, sharey='row')\n",
        "\n",
        "# Flatten the axes array for easier access\n",
        "axes = axes.flatten()\n",
        "\n",
        "# List the columns of the dataset\n",
        "columns = housing_dataset.columns\n",
        "\n",
        "# Create histograms with customised colours for each feature\n",
        "for i, column in enumerate(columns):\n",
        "    if i < len(axes):  # Ensure the number of subplots is not exceeded\n",
        "        sns.histplot(\n",
        "            data=housing_dataset,\n",
        "            x=column,\n",
        "            kde=True,\n",
        "            ax=axes[i],\n",
        "            color=palette[i],\n",
        "            edgecolor='white',\n",
        "            alpha=0.7\n",
        "        )\n",
        "        axes[i].set_title(column.capitalize(), fontsize=14, fontweight='bold', color='#333333')\n",
        "        axes[i].set_xlabel('')  # Remove x-axis labels for all subplots\n",
        "        if i % 3 != 0:\n",
        "            axes[i].set_ylabel('')  # Remove y-axis labels except for the first column\n",
        "        axes[i].tick_params(axis='both', which='major', labelsize=10)\n",
        "\n",
        "        # Improve label readability by limiting the number of ticks\n",
        "        axes[i].xaxis.set_major_locator(ticker.MaxNLocator(6))\n",
        "        axes[i].yaxis.set_major_locator(ticker.MaxNLocator(6))\n",
        "\n",
        "# Remove any extra subplots not used\n",
        "for i in range(len(columns), len(axes)):\n",
        "    fig.delaxes(axes[i])\n",
        "\n",
        "# Enhance layout with proper padding\n",
        "plt.tight_layout(pad=3.0, h_pad=2.5, w_pad=2.0)\n",
        "\n",
        "# Add a general title with spacing at the top\n",
        "fig.suptitle('Distribution of Housing Dataset Features', fontsize=20, fontweight='bold', y=1.02, color='#444444')\n",
        "\n",
        "# Display the plot\n",
        "plt.show()"
      ],
      "metadata": {
        "id": "yD44-9GfqJaS"
      },
      "execution_count": null,
      "outputs": []
    },
    {
      "cell_type": "code",
      "execution_count": null,
      "metadata": {
        "id": "7eBVFV8dwSuJ"
      },
      "outputs": [],
      "source": [
        "housing_dataset.plot(\n",
        "    kind=\"scatter\",\n",
        "    x=\"Longitude\",\n",
        "    y=\"Latitude\",\n",
        "    c=\"MedHouseVal\",\n",
        "    cmap=\"jet\",\n",
        "    colorbar=True,\n",
        "    legend=True,\n",
        "    sharex=False,\n",
        "    figsize=(10,7),\n",
        "    s=housing_dataset['Population']/100,\n",
        "    label=\"Population\",\n",
        "    alpha=0.7\n",
        "    )\n",
        "plt.show()"
      ]
    },
    {
      "cell_type": "markdown",
      "metadata": {
        "id": "rVqoCKqVfU9W"
      },
      "source": [
        "#### Split in train, validation and test"
      ]
    },
    {
      "cell_type": "code",
      "execution_count": null,
      "metadata": {
        "id": "AeyRco2WbzPw"
      },
      "outputs": [],
      "source": [
        "features = housing_dataset.columns[:-1]\n",
        "target = housing_dataset.columns[-1]\n",
        "\n",
        "# Split the dataset into a combined training and validation set, and a separate test set\n",
        "X_train_val, X_test, y_train_val, y_test = train_test_split(\n",
        "    housing_dataset[features],\n",
        "    housing_dataset[target],\n",
        "    test_size = 0.1,\n",
        "    random_state=seed\n",
        ")\n",
        "\n",
        "# Further split the combined training and validation set into a training set and a validation set\n",
        "X_train, X_val, y_train, y_val = train_test_split(\n",
        "    X_train_val,\n",
        "    y_train_val,\n",
        "    test_size = len(X_test), # Ensure validation set size matches test set size\n",
        "    random_state=seed\n",
        ")\n",
        "\n",
        "# Print the shapes of the resulting sets\n",
        "print('Training set shape:\\t', X_train.shape, y_train.shape)\n",
        "print('Validation set shape:\\t', X_val.shape, y_val.shape)\n",
        "print('Test set shape:\\t\\t', X_test.shape, y_test.shape)"
      ]
    },
    {
      "cell_type": "markdown",
      "metadata": {
        "id": "opLBOnWjWqay"
      },
      "source": [
        "### 🔄 Process Data"
      ]
    },
    {
      "cell_type": "code",
      "execution_count": null,
      "metadata": {
        "id": "Bw5_zErx2Uuy"
      },
      "outputs": [],
      "source": [
        "# Compute maximum values for each feature\n",
        "max_df = X_train.max()\n",
        "\n",
        "# Display maximum values\n",
        "print('California Housing dataset maximum values')\n",
        "print(max_df)\n",
        "\n",
        "# Compute maximum values for each feature\n",
        "max_target = y_train.max()\n",
        "\n",
        "# Display maximum values\n",
        "print('California Housing target maximum values')\n",
        "print(max_target)\n",
        "\n",
        "# Compute minimum values for each feature\n",
        "min_df = X_train.min()\n",
        "\n",
        "# Display minimum values\n",
        "print('\\nCalifornia Housing dataset minimum values')\n",
        "print(min_df)\n",
        "\n",
        "# Compute minimum values for each feature\n",
        "min_target = y_train.min()\n",
        "\n",
        "# Display minimum values\n",
        "print('California Housing target minimum values')\n",
        "print(min_target)"
      ]
    },
    {
      "cell_type": "code",
      "execution_count": null,
      "metadata": {
        "id": "qqWRWCtx2fq3"
      },
      "outputs": [],
      "source": [
        "# Normalise the dataset splits in the range [0,1]\n",
        "X_train_val = (X_train_val - min_df) / (max_df - min_df)\n",
        "X_train = (X_train - min_df)/(max_df - min_df)\n",
        "X_val = (X_val - min_df)/(max_df - min_df)\n",
        "X_test = (X_test - min_df)/(max_df - min_df)\n",
        "\n",
        "# Normalise the dataset splits in the range [0,1]\n",
        "y_train_val = (y_train_val - min_target) / (max_target - min_target)\n",
        "y_train = (y_train - min_target)/(max_target - min_target)\n",
        "y_val = (y_val - min_target)/(max_target - min_target)\n",
        "y_test = (y_test - min_target)/(max_target - min_target)"
      ]
    },
    {
      "cell_type": "code",
      "execution_count": null,
      "metadata": {
        "id": "tDIzVNsx2i7g"
      },
      "outputs": [],
      "source": [
        "# Inspect the effects of data normalisation\n",
        "X_train.describe()"
      ]
    },
    {
      "cell_type": "markdown",
      "source": [
        "### 🧮 Define Network Parameters"
      ],
      "metadata": {
        "id": "Bq4wqw-oNnEu"
      }
    },
    {
      "cell_type": "code",
      "execution_count": null,
      "metadata": {
        "id": "LouoOW13dRCy"
      },
      "outputs": [],
      "source": [
        "# Define the input shape for the neural network, excluding the batch size\n",
        "input_shape = X_train.shape[1:]\n",
        "\n",
        "# Define the batch size for training\n",
        "batch_size = 64\n",
        "\n",
        "# Define the number of training epochs\n",
        "epochs = 1000\n",
        "\n",
        "# Create an empty dictionary to store metadata\n",
        "metadata = {}"
      ]
    },
    {
      "cell_type": "markdown",
      "metadata": {
        "id": "UCwCIzOF3qS9"
      },
      "source": [
        "### 🧙‍♂️ Auxiliary functions"
      ]
    },
    {
      "cell_type": "code",
      "execution_count": null,
      "metadata": {
        "id": "-GQPKdibdP1X"
      },
      "outputs": [],
      "source": [
        "# Define a function for plotting training and validation Mean Squared Error (MSE) histories.\n",
        "def plot_histories(metadata, training=False, baseline=False, show_all=False):\n",
        "\n",
        "    print('VALIDATION MSE')\n",
        "    plt.figure(figsize=(21, 9))\n",
        "\n",
        "    # Iterate through different models stored in metadata.\n",
        "    for model in list(metadata.keys()):\n",
        "\n",
        "        # Skip the baseline model if baseline flag is False.\n",
        "        if model == 'Baseline' and not baseline:\n",
        "            continue\n",
        "\n",
        "        # Retrieve relevant information from the metadata dictionary.\n",
        "        history = metadata[model]['history']\n",
        "        patience = metadata[model]['patience']\n",
        "        color = metadata[model]['color']\n",
        "        val_score = metadata[model]['val_score']\n",
        "        print('%s: %.4f' % (model, val_score))\n",
        "\n",
        "        # Plot training and validation MSE histories with or without patience handling.\n",
        "        if patience != 0:\n",
        "            if training:\n",
        "                plt.plot(\n",
        "                    history['mse'][:-patience],\n",
        "                    alpha=0.5,\n",
        "                    color=color\n",
        "                )\n",
        "                if show_all:\n",
        "                    plt.plot(\n",
        "                        np.arange(len(history['mse']) - patience - 1, len(history['mse'])),\n",
        "                        history['mse'][-patience - 1:],\n",
        "                        alpha=0.2,\n",
        "                        color=color\n",
        "                    )\n",
        "\n",
        "            plt.plot(\n",
        "                history['val_mse'][:-patience],\n",
        "                label=model,\n",
        "                alpha=0.9,\n",
        "                color=color\n",
        "            )\n",
        "            if show_all:\n",
        "                plt.plot(\n",
        "                    np.arange(len(history['val_mse']) - patience - 1, len(history['val_mse'])),\n",
        "                    history['val_mse'][-patience - 1:],\n",
        "                    alpha=0.2,\n",
        "                    color=color\n",
        "                )\n",
        "\n",
        "        else:\n",
        "            if training:\n",
        "                plt.plot(\n",
        "                    history['mse'],\n",
        "                    alpha=0.5,\n",
        "                    color=color\n",
        "                )\n",
        "            plt.plot(\n",
        "                history['val_mse'],\n",
        "                label=model,\n",
        "                alpha=0.9,\n",
        "                color=color\n",
        "            )\n",
        "\n",
        "        # Set y-axis limits and add labels, legends, and grid.\n",
        "        if training:\n",
        "            plt.ylim(0.004, 0.0225)\n",
        "        else:\n",
        "            plt.ylim(0.01, 0.025)\n",
        "        plt.title('Mean Squared Error')\n",
        "        plt.legend(loc='upper right')\n",
        "        plt.grid(alpha=0.3)\n",
        "\n",
        "    # Display the plot.\n",
        "    plt.show()"
      ]
    },
    {
      "cell_type": "code",
      "execution_count": null,
      "metadata": {
        "id": "I-sA-xL9FgEW"
      },
      "outputs": [],
      "source": [
        "# Define a function for plotting residuals and model predictions\n",
        "def plot_residuals(model, data, labels):\n",
        "    # Sort the data and labels based on the 'labels' column\n",
        "    data['sort'] = labels\n",
        "    data = data.sort_values(by=['sort'])\n",
        "    labels = np.expand_dims(data['sort'], 1)\n",
        "    data.drop(['sort'], axis=1, inplace=True)\n",
        "\n",
        "    # Make predictions using the model\n",
        "    y_pred = model.predict(data, verbose=0)\n",
        "\n",
        "    # Calculate squared errors and mean squared error (MSE)\n",
        "    squared_errors = (labels - y_pred)**2\n",
        "    mse = np.mean(squared_errors).astype('float32')\n",
        "    print('MSE: %.4f' % mse)\n",
        "\n",
        "    # Set up plotting styles and create a scatter plot\n",
        "    mpl.rcParams.update(mpl.rcParamsDefault)\n",
        "    sns.set(font_scale=1.1, style=None, palette='Set1')\n",
        "    plt.figure(figsize=(21, 5))\n",
        "\n",
        "    # Plot true labels in red and model predictions in blue\n",
        "    plt.scatter(np.arange(len(labels)), labels, label='True', color='#d62728', alpha=0.7, s=8)\n",
        "\n",
        "    # Add vertical lines to represent residuals\n",
        "    for i in range(len(labels)):\n",
        "        if labels[i] >= y_pred[i]:\n",
        "            plt.vlines(i, y_pred[i], labels[i], alpha=0.2, linewidth=0.5)\n",
        "        else:\n",
        "            plt.vlines(i, labels[i], y_pred[i], alpha=0.2, linewidth=0.5)\n",
        "\n",
        "    plt.scatter(np.arange(len(y_pred)), y_pred, label='Prediction', color='#1f77b4', s=8)\n",
        "\n",
        "    # Add legends, grid, and set y-axis limits\n",
        "    plt.legend()\n",
        "    plt.grid(alpha=0.3)\n",
        "    plt.ylim((-0.1, 1.1))\n",
        "    plt.show()"
      ]
    },
    {
      "cell_type": "code",
      "execution_count": null,
      "metadata": {
        "id": "-sWNfLLAfiw1"
      },
      "outputs": [],
      "source": [
        "def evaluate_and_plot_model(model, X_val, y_val, X_test, y_test, metadata, history, patience, model_name, color, plot_baseline=False):\n",
        "    # Calculate validation Mean Squared Error (MSE) for the model\n",
        "    val_predictions = np.squeeze(model.predict(X_val, verbose=0))\n",
        "    val_squared_errors = (y_val - val_predictions)**2\n",
        "    val_mse = np.mean(val_squared_errors).astype('float32')\n",
        "\n",
        "    # Calculate test Mean Squared Error (MSE) for the model\n",
        "    test_predictions = np.squeeze(model.predict(X_test, verbose=0))\n",
        "    test_squared_errors = (y_test - test_predictions)**2\n",
        "    test_mse = np.mean(test_squared_errors).astype('float32')\n",
        "\n",
        "    # Add model metadata to the dictionary\n",
        "    metadata[model_name] = {\n",
        "        'model': model,\n",
        "        'history': history,\n",
        "        'color': color,\n",
        "        'patience': patience,\n",
        "        'val_score': val_mse,\n",
        "        'test_score': test_mse\n",
        "    }\n",
        "\n",
        "    # Plot histories\n",
        "    plot_histories(metadata, baseline=plot_baseline)\n",
        "\n",
        "    return metadata"
      ]
    },
    {
      "cell_type": "markdown",
      "metadata": {
        "id": "Jr9CX7CYdBg_"
      },
      "source": [
        "## 🦾 Baseline"
      ]
    },
    {
      "cell_type": "markdown",
      "metadata": {
        "id": "VvtmGMG43wej"
      },
      "source": [
        "### 🛠️ Build the model"
      ]
    },
    {
      "cell_type": "code",
      "execution_count": null,
      "metadata": {
        "id": "PkccDbv-bzKr"
      },
      "outputs": [],
      "source": [
        "def build_model(input_shape, learning_rate=1e-3, l2_lambda=0, dropout_rate=0, name='', seed=seed):\n",
        "\n",
        "    # Set random seed for reproducibility\n",
        "    tf.random.set_seed(seed)\n",
        "\n",
        "    # Initialise weights and regulariser\n",
        "    initialiser = tfk.initializers.GlorotNormal(seed=seed)\n",
        "    regulariser = tfk.regularizers.l2(l2_lambda)\n",
        "\n",
        "    # Input layer\n",
        "    input_layer = tfkl.Input(shape=input_shape, name='Input')\n",
        "\n",
        "    # Hidden layers with ReLU activations\n",
        "    x = tfkl.Dense(units=256, name='HiddenDense1', kernel_initializer=initialiser)(input_layer)\n",
        "    x = tfkl.Activation('relu', name='HiddenActivation1')(x)\n",
        "    x = tfkl.Dense(units=256, name='HiddenDense2', kernel_initializer=initialiser)(x)\n",
        "    x = tfkl.Activation('relu', name='HiddenActivation2')(x)\n",
        "\n",
        "    # Dropout layer if specified\n",
        "    if dropout_rate > 0:\n",
        "        x = tfkl.Dropout(dropout_rate, seed=seed, name='Dropout')(x)\n",
        "\n",
        "    # Output layer with optional L2 regularisation\n",
        "    if l2_lambda > 0:\n",
        "        output_layer = tfkl.Dense(units=1, kernel_initializer=initialiser, kernel_regularizer=regulariser, name='Output')(x)\n",
        "    else:\n",
        "        output_layer = tfkl.Dense(units=1, kernel_initializer=initialiser, name='Output')(x)\n",
        "\n",
        "    # Linear output activation\n",
        "    output_activation = tfkl.Activation('linear', name='OutputActivation')(output_layer)\n",
        "\n",
        "    # Connect input and output through the Model class\n",
        "    model = tfk.Model(inputs=input_layer, outputs=output_activation, name=name)\n",
        "\n",
        "    # Compile the model with Adam optimiser and MSE loss\n",
        "    opt = tfk.optimizers.Adam(learning_rate)\n",
        "    loss = tfk.losses.MeanSquaredError()\n",
        "    mtr = ['mse']\n",
        "    model.compile(loss=loss, optimizer=opt, metrics=mtr)\n",
        "\n",
        "    # Return the compiled model\n",
        "    return model"
      ]
    },
    {
      "cell_type": "code",
      "execution_count": null,
      "metadata": {
        "id": "7RRvC_IPbzH7"
      },
      "outputs": [],
      "source": [
        "model = build_model(input_shape)\n",
        "model.summary(expand_nested=True, show_trainable=True)\n",
        "tfk.utils.plot_model(model, expand_nested=True, show_trainable=True, show_shapes=True, dpi=70)"
      ]
    },
    {
      "cell_type": "markdown",
      "metadata": {
        "id": "90AOlHzm3zeR"
      },
      "source": [
        "### 🧠 Train the model"
      ]
    },
    {
      "cell_type": "code",
      "execution_count": null,
      "metadata": {
        "id": "Yp4EZ3EvlbdE"
      },
      "outputs": [],
      "source": [
        "# Train the model and store the training history\n",
        "history = model.fit(\n",
        "    x = X_train,\n",
        "    y = y_train,\n",
        "    validation_data = (X_val, y_val),\n",
        "    batch_size = batch_size,\n",
        "    epochs = epochs,\n",
        "    verbose=0\n",
        ").history"
      ]
    },
    {
      "cell_type": "code",
      "execution_count": null,
      "metadata": {
        "id": "MRPmgCT2jysq"
      },
      "outputs": [],
      "source": [
        "# Set the number of initial data points to ignore\n",
        "ignore = 0\n",
        "\n",
        "# Create a figure for loss visualization\n",
        "plt.figure(figsize=(21, 4))\n",
        "\n",
        "# Plot training and validation loss\n",
        "plt.plot(history['loss'][ignore:], label='Training loss', alpha=.2, color='#1f77b4')\n",
        "plt.plot(history['val_loss'][ignore:], label='Validation loss', alpha=.8, color='#1f77b4')\n",
        "plt.title('Loss')\n",
        "plt.legend()\n",
        "plt.grid(alpha=.3)\n",
        "\n",
        "# Create a figure for Mean Squared Error visualization\n",
        "plt.figure(figsize=(21, 4))\n",
        "\n",
        "# Plot training and validation MSE\n",
        "plt.plot(history['mse'][ignore:], label='Training MSE', alpha=.2, color='#1f77b4')\n",
        "plt.plot(history['val_mse'][ignore:], label='Validation MSE', alpha=.8, color='#1f77b4')\n",
        "plt.title('Mean Squared Error')\n",
        "plt.legend()\n",
        "plt.grid(alpha=.3)\n",
        "\n",
        "# Display the plots\n",
        "plt.show()"
      ]
    },
    {
      "cell_type": "code",
      "execution_count": null,
      "metadata": {
        "id": "9LJ92PLflL3p"
      },
      "outputs": [],
      "source": [
        "metadata = evaluate_and_plot_model(\n",
        "    model,\n",
        "    X_val,\n",
        "    y_val,\n",
        "    X_test,\n",
        "    y_test,\n",
        "    metadata,\n",
        "    history=history,\n",
        "    patience=0,\n",
        "    model_name='Baseline',\n",
        "    color='#1f77b4',\n",
        "    plot_baseline=True\n",
        "    )\n",
        "\n",
        "# Calculate the final validation mse\n",
        "final_val_mse = round(history['val_mse'][-1], 4)\n",
        "\n",
        "# Save the trained model to a file with the mse included in the filename\n",
        "model_filename = f'Feedforward_{final_val_mse}.keras'\n",
        "model.save(model_filename)\n",
        "\n",
        "# Delete the model to free up memory resources\n",
        "del model"
      ]
    },
    {
      "cell_type": "markdown",
      "metadata": {
        "id": "whhopAgQrOCe"
      },
      "source": [
        "## 🦾 Early Stopping"
      ]
    },
    {
      "cell_type": "markdown",
      "metadata": {
        "id": "YqmaqRkltDh-"
      },
      "source": [
        "Assuming the goal of a training is to minimize the loss.\n",
        "\n",
        "With this, the metric to be monitored would be **val_loss**, and mode would be **min**.\n",
        "\n",
        "A model.fit() training loop will check at end of every epoch whether the val_loss is no longer decreasing, considering the **min_delta** and **patience** if applicable.\n",
        "\n",
        "```\n",
        "tf.keras.callbacks.EarlyStopping(\n",
        "    monitor=\"val_loss\",\n",
        "    min_delta=0,\n",
        "    patience=0,\n",
        "    verbose=0,\n",
        "    mode=\"auto\",\n",
        "    baseline=None,\n",
        "    restore_best_weights=False,\n",
        "    start_from_epoch=0,\n",
        ")\n",
        "```\n",
        "\n"
      ]
    },
    {
      "cell_type": "markdown",
      "metadata": {
        "id": "zyh8xjxQSR4t"
      },
      "source": [
        "### 🛠️ Build the model"
      ]
    },
    {
      "cell_type": "code",
      "execution_count": null,
      "metadata": {
        "id": "EIGA7wsqVxBS"
      },
      "outputs": [],
      "source": [
        "es_model = build_model(input_shape)\n",
        "es_model.summary(expand_nested=True, show_trainable=True)\n",
        "tfk.utils.plot_model(es_model, expand_nested=True, show_trainable=True, show_shapes=True, dpi=70)"
      ]
    },
    {
      "cell_type": "markdown",
      "metadata": {
        "id": "F0z_NRa2TGQe"
      },
      "source": [
        "### 🧠 Train the model"
      ]
    },
    {
      "cell_type": "code",
      "execution_count": null,
      "metadata": {
        "id": "SFdsDRUJdVAl"
      },
      "outputs": [],
      "source": [
        "# Define the patience value for early stopping\n",
        "patience = 100\n",
        "\n",
        "# Create an EarlyStopping callback\n",
        "early_stopping = tfk.callbacks.EarlyStopping(\n",
        "    monitor='val_mse',\n",
        "    mode='min',\n",
        "    patience=patience,\n",
        "    restore_best_weights=True\n",
        ")\n",
        "\n",
        "# Store the callback in a list\n",
        "callbacks = [early_stopping]"
      ]
    },
    {
      "cell_type": "code",
      "execution_count": null,
      "metadata": {
        "id": "6hO_OhLWV0uW"
      },
      "outputs": [],
      "source": [
        "# Train the model and store the training history\n",
        "es_history = es_model.fit(\n",
        "    x = X_train,\n",
        "    y = y_train,\n",
        "    validation_data = (X_val, y_val),\n",
        "    batch_size = batch_size,\n",
        "    epochs = epochs,\n",
        "    callbacks = callbacks\n",
        ").history"
      ]
    },
    {
      "cell_type": "code",
      "execution_count": null,
      "metadata": {
        "id": "5Ij_kgCik6Zg"
      },
      "outputs": [],
      "source": [
        "# Set the number of initial data points to ignore\n",
        "ignore = 0\n",
        "\n",
        "# Create a figure for loss visualization\n",
        "plt.figure(figsize=(21, 4))\n",
        "\n",
        "# Plot training and validation loss for early-stopped model\n",
        "plt.plot(es_history['loss'][ignore:], label='Training loss', alpha=.2, color='#ff7f0e')\n",
        "plt.plot(es_history['val_loss'][ignore:], label='Validation loss', alpha=.8, color='#ff7f0e')\n",
        "plt.title('Loss')\n",
        "plt.legend()\n",
        "plt.grid(alpha=.3)\n",
        "\n",
        "# Create a figure for Mean Squared Error visualization\n",
        "plt.figure(figsize=(21, 4))\n",
        "\n",
        "# Plot training and validation MSE for early-stopped model\n",
        "plt.plot(es_history['mse'][ignore:], label='Training MSE', alpha=.2, color='#ff7f0e')\n",
        "plt.plot(es_history['val_mse'][ignore:], label='Validation MSE', alpha=.8, color='#ff7f0e')\n",
        "plt.title('Mean Squared Error')\n",
        "plt.legend()\n",
        "plt.grid(alpha=.3)\n",
        "\n",
        "# Display the plots\n",
        "plt.show()"
      ]
    },
    {
      "cell_type": "code",
      "execution_count": null,
      "metadata": {
        "id": "hjxDtfSqs5S7"
      },
      "outputs": [],
      "source": [
        "metadata = evaluate_and_plot_model(\n",
        "    es_model,\n",
        "    X_val,\n",
        "    y_val,\n",
        "    X_test,\n",
        "    y_test,\n",
        "    metadata,\n",
        "    history=es_history,\n",
        "    patience=patience,\n",
        "    model_name='Baseline (es)',\n",
        "    color='#ff7f0e',\n",
        "    plot_baseline=True\n",
        "    )\n",
        "\n",
        "\n",
        "# Calculate the final validation mse\n",
        "final_val_mse = round(es_history['val_mse'][-(patience+1)], 4)\n",
        "print(final_val_mse)\n",
        "\n",
        "# Save the trained model to a file with the mse included in the filename\n",
        "es_model_filename = f'Feedforward_es_{final_val_mse}.keras'\n",
        "es_model.save(es_model_filename)\n",
        "\n",
        "# Delete the model to free up memory resources\n",
        "del es_model"
      ]
    },
    {
      "cell_type": "code",
      "execution_count": null,
      "metadata": {
        "id": "zy56Y1TJw-Cq"
      },
      "outputs": [],
      "source": [
        "plot_histories(metadata, baseline=False)"
      ]
    },
    {
      "cell_type": "markdown",
      "metadata": {
        "id": "5lJYf5saMd_w"
      },
      "source": [
        "## 🦾 Ridge regression"
      ]
    },
    {
      "cell_type": "markdown",
      "metadata": {
        "id": "NTTz9kxrm8WR"
      },
      "source": [
        "$$\\mathrm{Ridge} (y, \\hat{y}) = \\frac{1}{N} \\sum^N_{n=0} (y_n - g(x_n|w))^2 + \\lambda\\sum^K_{k=0}w_k^2 = \\mathrm{MSE} (y, \\hat{y}) + \\lambda||w||_2^2\n",
        "$$"
      ]
    },
    {
      "cell_type": "markdown",
      "metadata": {
        "id": "9Y0ggmGvSZiZ"
      },
      "source": [
        "### 🛠️ Build the model"
      ]
    },
    {
      "cell_type": "code",
      "execution_count": null,
      "metadata": {
        "id": "RfGjmHGjMydv"
      },
      "outputs": [],
      "source": [
        "l2_lambda = 5e-4\n",
        "\n",
        "l2_model = build_model(input_shape, l2_lambda=l2_lambda)\n",
        "l2_model.summary(expand_nested=True, show_trainable=True)\n",
        "tfk.utils.plot_model(l2_model, expand_nested=True, show_trainable=True, show_shapes=True, dpi=70)"
      ]
    },
    {
      "cell_type": "markdown",
      "metadata": {
        "id": "j5CmnILZTJJM"
      },
      "source": [
        "### 🧠 Train the model"
      ]
    },
    {
      "cell_type": "code",
      "execution_count": null,
      "metadata": {
        "id": "dM8EHay3MybA"
      },
      "outputs": [],
      "source": [
        "# Create an EarlyStopping callback\n",
        "early_stopping = tfk.callbacks.EarlyStopping(\n",
        "    monitor='val_mse',\n",
        "    mode='min',\n",
        "    patience=patience,\n",
        "    restore_best_weights=True\n",
        ")\n",
        "\n",
        "# Store the callback in a list\n",
        "callbacks = [early_stopping]"
      ]
    },
    {
      "cell_type": "code",
      "execution_count": null,
      "metadata": {
        "id": "oYC7zZKmACdF"
      },
      "outputs": [],
      "source": [
        "# Train the model and store the training history\n",
        "l2_history = l2_model.fit(\n",
        "    x = X_train,\n",
        "    y = y_train,\n",
        "    validation_data = (X_val, y_val),\n",
        "    batch_size = batch_size,\n",
        "    epochs = epochs,\n",
        "    callbacks = callbacks\n",
        ").history"
      ]
    },
    {
      "cell_type": "code",
      "execution_count": null,
      "metadata": {
        "id": "wX2A5AelmhW7"
      },
      "outputs": [],
      "source": [
        "# Set the number of initial data points to ignore\n",
        "ignore = 0\n",
        "\n",
        "# Create a figure for loss visualization\n",
        "plt.figure(figsize=(21, 4))\n",
        "\n",
        "# Plot training and validation loss for L2-regularized model\n",
        "plt.plot(l2_history['loss'][ignore:], label='Training loss', alpha=.2, color='#2ca02c')\n",
        "plt.plot(l2_history['val_loss'][ignore:], label='Validation loss', alpha=.8, color='#2ca02c')\n",
        "plt.title('Loss')\n",
        "plt.legend()\n",
        "plt.grid(alpha=.3)\n",
        "\n",
        "# Create a figure for Mean Squared Error visualization\n",
        "plt.figure(figsize=(21, 4))\n",
        "\n",
        "# Plot training and validation MSE for L2-regularized model\n",
        "plt.plot(l2_history['mse'][ignore:], label='Training MSE', alpha=.2, color='#2ca02c')\n",
        "plt.plot(l2_history['val_mse'][ignore:], label='Validation MSE', alpha=.8, color='#2ca02c')\n",
        "plt.title('Mean Squared Error')\n",
        "plt.legend()\n",
        "plt.grid(alpha=.3)\n",
        "\n",
        "# Display the plots\n",
        "plt.show()"
      ]
    },
    {
      "cell_type": "code",
      "execution_count": null,
      "metadata": {
        "id": "upftUJ5ffrZF"
      },
      "outputs": [],
      "source": [
        "metadata = evaluate_and_plot_model(\n",
        "    l2_model,\n",
        "    X_val,\n",
        "    y_val,\n",
        "    X_test,\n",
        "    y_test,\n",
        "    metadata,\n",
        "    history=l2_history,\n",
        "    patience=patience,\n",
        "    model_name='Ridge',\n",
        "    color='#2ca02c'\n",
        "    )\n",
        "\n",
        "# Calculate the final validation mse\n",
        "final_val_mse = round(l2_history['val_mse'][-(patience+1)], 4)\n",
        "\n",
        "# Save the trained model to a file with the mse included in the filename\n",
        "l2_model_filename = f'Feedforward_l2_{final_val_mse}.keras'\n",
        "l2_model.save(l2_model_filename)\n",
        "\n",
        "# Delete the model to free up memory resources\n",
        "del l2_model"
      ]
    },
    {
      "cell_type": "markdown",
      "metadata": {
        "id": "A0u8JbMEIfva"
      },
      "source": [
        "## 🦾 Dropout"
      ]
    },
    {
      "cell_type": "markdown",
      "metadata": {
        "id": "rt1RK_P3S0cX"
      },
      "source": [
        "The Dropout layer randomly sets input units to 0 with a frequency of rate at each step during training time, which helps prevent overfitting. Inputs not set to 0 are scaled up by 1/(1 - rate) such that the sum over all inputs is unchanged.\n",
        "\n",
        "Note that the Dropout layer only applies when training is set to True such that no values are dropped during inference.\n",
        "\n",
        "\n",
        "\n",
        "```\n",
        "tf.keras.layers.Dropout(\n",
        "    rate,\n",
        "    noise_shape=None,\n",
        "    seed=None,\n",
        "    **kwargs\n",
        ")\n",
        "```\n",
        "\n"
      ]
    },
    {
      "cell_type": "markdown",
      "metadata": {
        "id": "b_i3ZDeQ18YM"
      },
      "source": [
        "![1595924298540.jpg](data:image/jpeg;base64,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)"
      ]
    },
    {
      "cell_type": "markdown",
      "metadata": {
        "id": "NzM_s9waSbc1"
      },
      "source": [
        "### 🛠️ Build the model"
      ]
    },
    {
      "cell_type": "code",
      "execution_count": null,
      "metadata": {
        "id": "IVhk-JmpIiRQ"
      },
      "outputs": [],
      "source": [
        "dropout_rate = 1/2\n",
        "\n",
        "dropout_model = build_model(input_shape, dropout_rate=dropout_rate)\n",
        "dropout_model.summary(expand_nested=True, show_trainable=True)\n",
        "tfk.utils.plot_model(dropout_model, expand_nested=True, show_trainable=True, show_shapes=True, dpi=70)"
      ]
    },
    {
      "cell_type": "markdown",
      "metadata": {
        "id": "gmfA7an2TMYT"
      },
      "source": [
        "### 🧠 Train the model"
      ]
    },
    {
      "cell_type": "code",
      "execution_count": null,
      "metadata": {
        "id": "ljFMezrxVCpw"
      },
      "outputs": [],
      "source": [
        "# Create an EarlyStopping callback\n",
        "early_stopping = tfk.callbacks.EarlyStopping(\n",
        "    monitor='val_mse',\n",
        "    mode='min',\n",
        "    patience=patience,\n",
        "    restore_best_weights=True\n",
        ")\n",
        "\n",
        "callbacks = [early_stopping]\n",
        "\n",
        "dropout_history = dropout_model.fit(\n",
        "    x = X_train,\n",
        "    y = y_train,\n",
        "    validation_data = (X_val, y_val),\n",
        "    batch_size = batch_size,\n",
        "    epochs = epochs,\n",
        "    callbacks = callbacks\n",
        ").history"
      ]
    },
    {
      "cell_type": "code",
      "execution_count": null,
      "metadata": {
        "id": "kg3UtuB1nK6q"
      },
      "outputs": [],
      "source": [
        "# Set the number of initial data points to ignore\n",
        "ignore = 0\n",
        "\n",
        "# Create a figure for loss visualization\n",
        "plt.figure(figsize=(21, 4))\n",
        "\n",
        "# Plot training and validation loss for model with dropout layers\n",
        "plt.plot(dropout_history['loss'][ignore:], label='Training loss', alpha=.2, color='#9467bd')\n",
        "plt.plot(dropout_history['val_loss'][ignore:], label='Validation loss', alpha=.8, color='#9467bd')\n",
        "plt.title('Loss')\n",
        "plt.legend()\n",
        "plt.grid(alpha=.3)\n",
        "\n",
        "# Create a figure for Mean Squared Error visualization\n",
        "plt.figure(figsize=(21, 4))\n",
        "\n",
        "# Plot training and validation MSE for model with dropout layers\n",
        "plt.plot(dropout_history['mse'][ignore:], label='Training MSE', alpha=.2, color='#9467bd')\n",
        "plt.plot(dropout_history['val_mse'][ignore:], label='Validation MSE', alpha=.8, color='#9467bd')\n",
        "plt.title('Mean Squared Error')\n",
        "plt.legend()\n",
        "plt.grid(alpha=.3)\n",
        "\n",
        "# Display the plots\n",
        "plt.show()"
      ]
    },
    {
      "cell_type": "code",
      "execution_count": null,
      "metadata": {
        "id": "rXC5uVpeGMWn"
      },
      "outputs": [],
      "source": [
        "metadata = evaluate_and_plot_model(\n",
        "    dropout_model,\n",
        "    X_val,\n",
        "    y_val,\n",
        "    X_test,\n",
        "    y_test,\n",
        "    metadata,\n",
        "    history=dropout_history,\n",
        "    patience=patience,\n",
        "    model_name='Dropout',\n",
        "    color='#9467bd'\n",
        "    )\n",
        "\n",
        "\n",
        "# Calculate the final validation mse\n",
        "final_val_mse = round(dropout_history['val_mse'][-(patience+1)], 4)\n",
        "\n",
        "# Save the trained model to a file with the mse included in the filename\n",
        "dropout_model_filename = f'Feedforward_do_{final_val_mse}.keras'\n",
        "dropout_model.save(dropout_model_filename)\n",
        "\n",
        "# Delete the model to free up memory resources\n",
        "del dropout_model"
      ]
    },
    {
      "cell_type": "markdown",
      "metadata": {
        "id": "8CdluwNQ-ZCA"
      },
      "source": [
        "## 📊 Final Comparison"
      ]
    },
    {
      "cell_type": "code",
      "execution_count": null,
      "metadata": {
        "id": "6RmgMNvc5fRn"
      },
      "outputs": [],
      "source": [
        "# Compare all the trainings\n",
        "plot_histories(metadata, baseline=True)"
      ]
    },
    {
      "cell_type": "code",
      "execution_count": null,
      "metadata": {
        "id": "3tZ5lNVxWzTJ"
      },
      "outputs": [],
      "source": [
        "# Create a bar chart for validation MSE of different models\n",
        "plt.figure(figsize=(21, 6))\n",
        "for m in metadata.keys():\n",
        "    plt.bar(m, metadata[m]['val_score'], color=metadata[m]['color'], alpha=.8)\n",
        "plt.ylim(0.01, .02)\n",
        "plt.title('Validation MSE')\n",
        "plt.grid(alpha=.3, axis='y')\n",
        "plt.show()"
      ]
    },
    {
      "cell_type": "markdown",
      "source": [
        "## 🕹️ Use the Model - Make Inference"
      ],
      "metadata": {
        "id": "sKccZh9b0qKj"
      }
    },
    {
      "cell_type": "code",
      "execution_count": null,
      "metadata": {
        "id": "dr4J7hpshiaU"
      },
      "outputs": [],
      "source": [
        "# Load the best model\n",
        "print('Best model loading...')\n",
        "dropout_model = tfk.models.load_model('Feedforward_do_0.0105.keras')\n",
        "print('Best model loaded!')\n",
        "\n",
        "# Evaluate and plot performance on the training data\n",
        "print('Train Performance')\n",
        "plot_residuals(dropout_model, X_train.copy(), y_train.copy())\n",
        "\n",
        "# Evaluate and plot performance on the validation data\n",
        "print('Validation Performance')\n",
        "plot_residuals(dropout_model, X_val.copy(), y_val.copy())\n",
        "\n",
        "# Evaluate and plot performance on the test data\n",
        "print('Test Performance')\n",
        "plot_residuals(dropout_model, X_test.copy(), y_test.copy())"
      ]
    },
    {
      "cell_type": "markdown",
      "metadata": {
        "id": "M0z1nDnV-LYZ"
      },
      "source": [
        "## 💡 K-Fold Cross-Validation"
      ]
    },
    {
      "cell_type": "markdown",
      "metadata": {
        "id": "ZOaVGWUn2ffF"
      },
      "source": [
        "![grid_search_cross_validation.png](data:image/png;base64,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)"
      ]
    },
    {
      "cell_type": "code",
      "execution_count": null,
      "metadata": {
        "id": "U5gS78Oa-KNe"
      },
      "outputs": [],
      "source": [
        "# Define the number of folds for cross-validation\n",
        "num_folds = 10\n",
        "\n",
        "# Initialize lists to store training histories, scores, and best epochs\n",
        "histories = []\n",
        "scores = []\n",
        "best_epochs = []\n",
        "\n",
        "# Create a KFold cross-validation object\n",
        "kfold = KFold(n_splits=num_folds, shuffle=True, random_state=seed)\n",
        "\n",
        "# Loop through each fold\n",
        "for fold_idx, (train_idx, valid_idx) in enumerate(kfold.split(X_train_val, y_train_val)):\n",
        "\n",
        "    print(\"Starting training on fold num: {}\".format(fold_idx+1))\n",
        "\n",
        "    # Build a new dropout model for each fold\n",
        "    k_model = build_model(input_shape, dropout_rate=dropout_rate)\n",
        "\n",
        "    # Create an EarlyStopping callback\n",
        "    early_stopping = tfk.callbacks.EarlyStopping(\n",
        "        monitor='val_mse',\n",
        "        mode='min',\n",
        "        patience=patience,\n",
        "        restore_best_weights=True\n",
        "    )\n",
        "\n",
        "    callbacks = [early_stopping]\n",
        "\n",
        "    # Train the model on the training data for this fold\n",
        "    history = k_model.fit(\n",
        "    x = X_train_val.iloc[train_idx],\n",
        "    y = y_train_val.iloc[train_idx],\n",
        "    validation_data=(X_train_val.iloc[valid_idx], y_train_val.iloc[valid_idx]),\n",
        "    batch_size = batch_size,\n",
        "    epochs = epochs,\n",
        "    callbacks = callbacks,\n",
        "    verbose = 0\n",
        "    ).history\n",
        "\n",
        "    # Evaluate the model on the validation data for this fold\n",
        "    score = k_model.evaluate(X_train_val.iloc[valid_idx], y_train_val.iloc[valid_idx], verbose=0)\n",
        "    scores.append(score[1])\n",
        "\n",
        "    # Calculate the best epoch for early stopping\n",
        "    best_epoch = len(history['loss']) - patience\n",
        "    best_epochs.append(best_epoch)\n",
        "\n",
        "    # Store the training history for this fold\n",
        "    histories.append(history)"
      ]
    },
    {
      "cell_type": "code",
      "execution_count": null,
      "metadata": {
        "id": "LHUpg3-Mi-Ni"
      },
      "outputs": [],
      "source": [
        "# Define a list of colors for plotting\n",
        "colors = ['#1f77b4', '#ff7f0e', '#2ca02c', '#d62728', '#9467bd', '#8c564b', '#e377c2', '#7f7f7f', '#bcbd22', '#17becf']\n",
        "\n",
        "# Print mean and standard deviation of MSE scores\n",
        "print(\"MSE\")\n",
        "print(f\"Mean: {np.mean(scores).round(4)}\\nStd:  {np.std(scores).round(4)}\")\n",
        "\n",
        "# Create a figure for MSE visualization\n",
        "plt.figure(figsize=(15,6))\n",
        "\n",
        "# Plot MSE for each fold\n",
        "for fold_idx in range(num_folds):\n",
        "    plt.plot(histories[fold_idx]['val_mse'][:-patience], color=colors[fold_idx], label=f'Fold N°{fold_idx+1}')\n",
        "    plt.ylim(0.009, 0.02)\n",
        "    plt.title('Mean Squared Error')\n",
        "    plt.legend(loc='upper right')\n",
        "    plt.grid(alpha=.3)\n",
        "\n",
        "# Show the plot\n",
        "plt.show()"
      ]
    },
    {
      "cell_type": "code",
      "execution_count": null,
      "metadata": {
        "id": "6NaWjvYWRoem"
      },
      "outputs": [],
      "source": [
        "# Calculate the average best epoch\n",
        "avg_epochs = int(np.mean(best_epochs))\n",
        "print(f\"Best average epoch: {avg_epochs}\")"
      ]
    },
    {
      "cell_type": "code",
      "execution_count": null,
      "metadata": {
        "id": "ekF5Mz94Rz6q"
      },
      "outputs": [],
      "source": [
        "# Build the final model using the calculated average best epoch\n",
        "final_model = build_model(input_shape, dropout_rate)\n",
        "\n",
        "# Train the final model on the combined training and validation data\n",
        "final_history = final_model.fit(\n",
        "    x = X_train_val,\n",
        "    y = y_train_val,\n",
        "    batch_size = batch_size,\n",
        "    epochs = avg_epochs\n",
        ").history"
      ]
    },
    {
      "cell_type": "code",
      "execution_count": null,
      "metadata": {
        "id": "zJWOvCJwS1pB"
      },
      "outputs": [],
      "source": [
        "# Evaluate and plot the performance of the final model on the test data\n",
        "print('Final Model Test Performance')\n",
        "plot_residuals(final_model, X_test.copy(), y_test.copy())"
      ]
    },
    {
      "cell_type": "markdown",
      "metadata": {
        "id": "FAL-6IbVvDeL"
      },
      "source": [
        "## 📜 TODO Exercise\n",
        "\n",
        "The output of the regression problem has been scaled to be in the range [0,1].\n",
        "However, the linear output of our model can also predict values outside this interval.\n",
        "Try to repeat the experiment by adding a ZeroOneClipping layer as the last layer of the network.\n",
        "\n",
        "```\n",
        "class ZeroOneClipping(tfkl.Layer):\n",
        "    def __init__(self, **kwargs):\n",
        "        super(ZeroOneClipping, self).__init__(**kwargs)\n",
        "\n",
        "    def call(self, inputs):\n",
        "        # Clips the output between 0 and 1\n",
        "        cropped_output = tf.clip_by_value(inputs, 0, 1)\n",
        "        return cropped_output\n",
        "```\n",
        "```\n",
        "...\n",
        "clipping = ZeroOneClipping()(output_activation)\n",
        "```\n",
        "\n",
        "\n",
        "What if, instead, the output activating function changed to treat the target as a bounded probability\n",
        "```\n",
        "output_activation = tfkl.Activation('sigmoid', name='OutputActivation')(output_layer)\n",
        "```"
      ]
    },
    {
      "cell_type": "markdown",
      "metadata": {
        "id": "HOZkZVOlzz0e"
      },
      "source": [
        "#  \n",
        "<img src=\"https://airlab.deib.polimi.it/wp-content/uploads/2019/07/airlab-logo-new_cropped.png\" width=\"350\">\n",
        "\n",
        "<img src=\"https://upload.wikimedia.org/wikipedia/commons/thumb/9/95/Instagram_logo_2022.svg/800px-Instagram_logo_2022.svg.png\" width=\"15\"> **Instagram:** https://www.instagram.com/airlab_polimi/\n",
        "\n",
        "<img src=\"https://upload.wikimedia.org/wikipedia/commons/thumb/8/81/LinkedIn_icon.svg/2048px-LinkedIn_icon.svg.png\" width=\"15\"> **LinkedIn:** https://www.linkedin.com/company/airlab-polimi/\n",
        "___\n",
        "Credits: Eugenio Lomurno 📧 eugenio.lomurno@polimi.it\n",
        "\n",
        "\n",
        "\n",
        "\n",
        "\n",
        "```\n",
        "   Copyright 2024 Eugenio Lomurno\n",
        "\n",
        "   Licensed under the Apache License, Version 2.0 (the \"License\");\n",
        "   you may not use this file except in compliance with the License.\n",
        "   You may obtain a copy of the License at\n",
        "\n",
        "       http://www.apache.org/licenses/LICENSE-2.0\n",
        "\n",
        "   Unless required by applicable law or agreed to in writing, software\n",
        "   distributed under the License is distributed on an \"AS IS\" BASIS,\n",
        "   WITHOUT WARRANTIES OR CONDITIONS OF ANY KIND, either express or implied.\n",
        "   See the License for the specific language governing permissions and\n",
        "   limitations under the License.\n",
        "```\n"
      ]
    }
  ],
  "metadata": {
    "colab": {
      "provenance": [],
      "include_colab_link": true
    },
    "kernelspec": {
      "display_name": "Python 3",
      "language": "python",
      "name": "python3"
    },
    "language_info": {
      "codemirror_mode": {
        "name": "ipython",
        "version": 3
      },
      "file_extension": ".py",
      "mimetype": "text/x-python",
      "name": "python",
      "nbconvert_exporter": "python",
      "pygments_lexer": "ipython3",
      "version": "3.8.8"
    }
  },
  "nbformat": 4,
  "nbformat_minor": 0
}