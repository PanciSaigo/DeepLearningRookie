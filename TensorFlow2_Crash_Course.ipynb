{
  "nbformat": 4,
  "nbformat_minor": 0,
  "metadata": {
    "colab": {
      "provenance": [],
      "include_colab_link": true
    },
    "kernelspec": {
      "name": "python3",
      "display_name": "Python 3"
    },
    "language_info": {
      "name": "python"
    }
  },
  "cells": [
    {
      "cell_type": "markdown",
      "metadata": {
        "id": "view-in-github",
        "colab_type": "text"
      },
      "source": [
        "<a href=\"https://colab.research.google.com/github/PanciSaigo/DeepLearningRookie/blob/main/TensorFlow2_Crash_Course.ipynb\" target=\"_parent\"><img src=\"https://colab.research.google.com/assets/colab-badge.svg\" alt=\"Open In Colab\"/></a>"
      ]
    },
    {
      "cell_type": "markdown",
      "source": [
        "# **Introduction to Tensor Operations in TensorFlow 2**\n",
        "Tensors are multi-dimensional arrays that can hold data of different data types. They are the building blocks of deep learning models and can represent scalars, vectors, matrices, or higher-dimensional data. TensorFlow 2 uses tensors as the primary data structure to process and manipulate data during the training and inference phases of a machine learning model.\n",
        "\n",
        "Tensor properties:\n",
        "*   Rank: The number of dimensions of a tensor. A scalar has a rank of 0, a vector has a rank of 1, a matrix has a rank of 2, and so on.\n",
        "*   Shape: The size of each dimension in a tensor. For example, a 3x3 matrix has a shape of (3, 3), and a vector with 5 elements has a shape of (5,).\n",
        "*   Data type: The type of data stored in the tensor, such as float32, int32, etc."
      ],
      "metadata": {
        "id": "6pWQ6cuVk09F"
      }
    },
    {
      "cell_type": "markdown",
      "source": [
        "# **Chapter 1: Getting Started with TensorFlow 2**\n",
        "To use TensorFlow 2 in your Python code, you need to import it first. Conventionally, TensorFlow 2 is imported with the alias **tf**:"
      ],
      "metadata": {
        "id": "hG2Y5HEdk_TY"
      }
    },
    {
      "cell_type": "code",
      "execution_count": null,
      "metadata": {
        "id": "P3Csbxskhdnk"
      },
      "outputs": [],
      "source": [
        "import tensorflow as tf"
      ]
    },
    {
      "cell_type": "markdown",
      "source": [
        "### **1.1 Creating Tensors**\n",
        "In TensorFlow 2, you can create tensors using various methods.\n",
        "\n",
        "The simplest way to create a tensor is by using **tf.constant**, which creates an immutable tensor with fixed values."
      ],
      "metadata": {
        "id": "YFT_nkmulOZN"
      }
    },
    {
      "cell_type": "code",
      "source": [
        "# Create a scalar tensor (a single value)\n",
        "scalar_tensor = tf.constant(42)\n",
        "print(scalar_tensor)\n",
        "\n",
        "# Create a 1D tensor (vector) with 5 elements\n",
        "vector_tensor = tf.constant([1, 2, 3, 4, 5])\n",
        "print(vector_tensor)\n",
        "\n",
        "# Create a 2D tensor (matrix) with 3 rows and 3 columns\n",
        "matrix_tensor = tf.constant([[1, 2, 3],\n",
        "                             [4, 5, 6],\n",
        "                             [7, 8, 9]])\n",
        "print(matrix_tensor)"
      ],
      "metadata": {
        "id": "oAfu3Q8wlIFD"
      },
      "execution_count": null,
      "outputs": []
    },
    {
      "cell_type": "markdown",
      "source": [
        "Unlike tf.constant, **tf.Variable** allows you to create mutable tensors. It is commonly used to hold the model's learnable parameters, like weights and biases."
      ],
      "metadata": {
        "id": "EFU3oR-slnWt"
      }
    },
    {
      "cell_type": "code",
      "source": [
        "# Create a mutable tensor using tf.Variable\n",
        "# This tensor can be modified after creation\n",
        "mutable_tensor = tf.Variable([10, 20, 30])\n",
        "print(mutable_tensor)"
      ],
      "metadata": {
        "id": "rw9fxrJaliGS"
      },
      "execution_count": null,
      "outputs": []
    },
    {
      "cell_type": "markdown",
      "source": [
        "### **1.2 Basic Tensor Operations**\n",
        "TensorFlow 2 provides a wide range of operations to manipulate tensors.\n",
        "\n",
        "**Element-wise Operations**: Perform operations element-wise on tensors, applying the operation to each element individually."
      ],
      "metadata": {
        "id": "8I6Scr-Hlw2o"
      }
    },
    {
      "cell_type": "code",
      "source": [
        "# Create two 1D tensors for element-wise operations\n",
        "tensor1 = tf.constant([1, 2, 3])\n",
        "tensor2 = tf.constant([4, 5, 6])\n",
        "\n",
        "# Perform element-wise addition\n",
        "# This adds corresponding elements from tensor1 and tensor2\n",
        "result_addition = tf.add(tensor1, tensor2)\n",
        "print(result_addition)\n",
        "\n",
        "# Perform element-wise multiplication\n",
        "# This multiplies corresponding elements from tensor1 and tensor2\n",
        "result_multiply = tf.multiply(tensor1, tensor2)\n",
        "print(result_multiply)"
      ],
      "metadata": {
        "id": "ZVcy_iIEluXv"
      },
      "execution_count": null,
      "outputs": []
    },
    {
      "cell_type": "markdown",
      "source": [
        "**Matrix Operations**: Perform matrix multiplication and other matrix-related operations."
      ],
      "metadata": {
        "id": "oPDvGuHKY2MJ"
      }
    },
    {
      "cell_type": "code",
      "source": [
        "# Create two 2x2 matrices for matrix multiplication\n",
        "matrix1 = tf.constant([[1, 2],\n",
        "                       [3, 4]])\n",
        "matrix2 = tf.constant([[5, 6],\n",
        "                       [7, 8]])\n",
        "\n",
        "# Perform matrix multiplication\n",
        "# This multiplies matrix1 and matrix2 using the rules of matrix multiplication\n",
        "result_matrix_mul = tf.matmul(matrix1, matrix2)\n",
        "print(result_matrix_mul)"
      ],
      "metadata": {
        "id": "badFTW4UY0Sk"
      },
      "execution_count": null,
      "outputs": []
    },
    {
      "cell_type": "markdown",
      "source": [
        "**Broadcasting**: Automatically align tensors with different shapes during operations."
      ],
      "metadata": {
        "id": "Y5xGJLxzY6KL"
      }
    },
    {
      "cell_type": "code",
      "source": [
        "# Create a scalar tensor and a vector tensor for broadcasting demonstration\n",
        "scalar_tensor = tf.constant(10)\n",
        "vector_tensor = tf.constant([1, 2, 3])\n",
        "\n",
        "# Perform broadcasting operation\n",
        "# The scalar is 'broadcast' to match the shape of the vector\n",
        "# Effectively, it's as if the scalar [10] becomes [10, 10, 10]\n",
        "result_broadcasting = scalar_tensor + vector_tensor\n",
        "print(result_broadcasting)"
      ],
      "metadata": {
        "id": "69fd7H1bY6li"
      },
      "execution_count": null,
      "outputs": []
    },
    {
      "cell_type": "markdown",
      "source": [
        "# **Chapter 2: Advanced Tensor Operations in TensorFlow 2**\n",
        "In this chapter, we will dive deeper into advanced tensor operations and explore how to perform more complex computations using tensors. Understanding these operations is essential for building sophisticated neural networks and efficiently working with large datasets."
      ],
      "metadata": {
        "id": "aj4kJIl4ZAXU"
      }
    },
    {
      "cell_type": "markdown",
      "source": [
        "### **2.1 Tensor Indexing and Slicing**\n",
        "TensorFlow 2 allows you to access specific elements or slices of tensors using indexing and slicing. Just like Python lists, tensors are zero-indexed."
      ],
      "metadata": {
        "id": "8MCpYLXGZJzV"
      }
    },
    {
      "cell_type": "code",
      "source": [
        "# Create a sample 1D tensor with 5 elements\n",
        "tensor = tf.constant([1, 2, 3, 4, 5])\n",
        "\n",
        "# Access individual elements of the tensor\n",
        "# Print the first element (index 0)\n",
        "print(tensor[0])\n",
        "\n",
        "# Print the last element using negative indexing\n",
        "print(tensor[-1])\n",
        "\n",
        "# Slice the tensor\n",
        "# Extract elements from index 1 to 3 (exclusive)\n",
        "print(tensor[1:4])"
      ],
      "metadata": {
        "id": "pWCOGPDhY706"
      },
      "execution_count": null,
      "outputs": []
    },
    {
      "cell_type": "markdown",
      "source": [
        "### **2.2 Reshaping Tensors**\n",
        "Sometimes, you may need to change the shape of a tensor without altering its contents. TensorFlow 2 provides the tf.reshape function for this purpose."
      ],
      "metadata": {
        "id": "6cpCNKLPajTb"
      }
    },
    {
      "cell_type": "code",
      "source": [
        "# Create a 2D tensor with 2 rows and 3 columns\n",
        "tensor = tf.constant([[1, 2, 3],\n",
        "                      [4, 5, 6]])\n",
        "\n",
        "# Reshape the tensor to have 3 rows and 2 columns\n",
        "# The total number of elements (6) remains the same\n",
        "reshaped_tensor = tf.reshape(tensor, (3, 2))\n",
        "print(reshaped_tensor)"
      ],
      "metadata": {
        "id": "FWyASnf5bN-r"
      },
      "execution_count": null,
      "outputs": []
    },
    {
      "cell_type": "markdown",
      "source": [
        "### **2.3 Reduction Operations**\n",
        "Reduction operations aggregate tensor elements along a specific axis. Common reduction operations include finding the sum, mean, minimum, maximum, and more."
      ],
      "metadata": {
        "id": "CnJa9dnlan6a"
      }
    },
    {
      "cell_type": "code",
      "source": [
        "# Create a 2D tensor with 2 rows and 2 columns\n",
        "tensor = tf.constant([[1, 2],\n",
        "                      [3, 4]])\n",
        "\n",
        "\n",
        "# Calculate the sum of all elements in the tensor\n",
        "sum_tensor = tf.reduce_sum(tensor)\n",
        "print(sum_tensor)\n",
        "\n",
        "# Calculate the mean along axis 1 (row-wise mean)\n",
        "# This reduces the tensor to a 1D tensor with one value per row\n",
        "mean_tensor = tf.reduce_mean(tensor, axis=1)\n",
        "print(mean_tensor)\n",
        "\n",
        "# Find the maximum value in the entire tensor\n",
        "max_tensor = tf.reduce_max(tensor)\n",
        "print(max_tensor)"
      ],
      "metadata": {
        "id": "OnjjOzSbbOS6"
      },
      "execution_count": null,
      "outputs": []
    },
    {
      "cell_type": "markdown",
      "source": [
        "### **2.4 Element-wise Activation Functions**\n",
        "Activation functions play a crucial role in neural networks, introducing non-linearity to the model. TensorFlow 2 provides various element-wise activation functions, such as ReLU, sigmoid, and softmax."
      ],
      "metadata": {
        "id": "jjmYm719aoOj"
      }
    },
    {
      "cell_type": "code",
      "source": [
        "# Create a 1D tensor with float32 data type\n",
        "# Using float32 is important for activation functions\n",
        "tensor = tf.constant([-1, 2, 3], dtype=tf.float32)\n",
        "\n",
        "# ReLU (Rectified Linear Unit) activation\n",
        "# ReLU returns 0 for negative inputs and the input itself for positive inputs\n",
        "relu_output = tf.nn.relu(tensor)\n",
        "print(relu_output)\n",
        "\n",
        "# Sigmoid activation\n",
        "# Sigmoid squashes the input to a range between 0 and 1\n",
        "sigmoid_output = tf.nn.sigmoid(tensor)\n",
        "print(sigmoid_output)"
      ],
      "metadata": {
        "id": "ZBY6be3rbOoV"
      },
      "execution_count": null,
      "outputs": []
    },
    {
      "cell_type": "markdown",
      "source": [
        "### **2.5 Broadcasting and Element-wise Comparisons**\n",
        "Broadcasting allows TensorFlow 2 to perform element-wise operations between tensors of different shapes."
      ],
      "metadata": {
        "id": "_rvGzBf9a24Q"
      }
    },
    {
      "cell_type": "code",
      "source": [
        "# Create two tensors for comparison\n",
        "# tensor1 is a 1D tensor with 3 elements\n",
        "tensor1 = tf.constant([1, 2, 3])\n",
        "\n",
        "# tensor2 is a scalar tensor\n",
        "tensor2 = tf.constant(2)\n",
        "\n",
        "# Perform element-wise comparison with broadcasting\n",
        "# The scalar tensor2 is broadcast to match the shape of tensor1\n",
        "# The result is a boolean tensor of the same shape as tensor1\n",
        "result = tensor1 >= tensor2\n",
        "print(result)"
      ],
      "metadata": {
        "id": "5zeTnQMObPA5"
      },
      "execution_count": null,
      "outputs": []
    },
    {
      "cell_type": "markdown",
      "source": [
        "### **2.6 Tensor Concatenation**\n",
        "Concatenation allows you to combine tensors along a specified axis."
      ],
      "metadata": {
        "id": "3PblhcLUa9Vd"
      }
    },
    {
      "cell_type": "code",
      "source": [
        "# Create two tensors for concatenation\n",
        "# tensor1 is a 2x2 matrix\n",
        "tensor1 = tf.constant([[1, 2],\n",
        "                       [3, 4]])\n",
        "\n",
        "# tensor2 is a 1x2 matrix (a single row)\n",
        "tensor2 = tf.constant([[5, 6]])\n",
        "\n",
        "# Concatenate the tensors along axis 0 (vertically)\n",
        "# This operation stacks the tensors on top of each other\n",
        "concatenated_tensor = tf.concat([tensor1, tensor2], axis=0)\n",
        "print(concatenated_tensor)"
      ],
      "metadata": {
        "id": "7S5vOJvnZSd2"
      },
      "execution_count": null,
      "outputs": []
    },
    {
      "cell_type": "markdown",
      "source": [
        "#  \n",
        "<img src=\"https://airlab.deib.polimi.it/wp-content/uploads/2019/07/airlab-logo-new_cropped.png\" width=\"350\">\n",
        "\n",
        "##### Connect with us:\n",
        "- <img src=\"https://upload.wikimedia.org/wikipedia/commons/thumb/8/81/LinkedIn_icon.svg/2048px-LinkedIn_icon.svg.png\" width=\"14\"> **LinkedIn:**  [AIRLab Polimi](https://www.linkedin.com/company/airlab-polimi/)\n",
        "- <img src=\"https://upload.wikimedia.org/wikipedia/commons/thumb/9/95/Instagram_logo_2022.svg/800px-Instagram_logo_2022.svg.png\" width=\"14\"> **Instagram:** [airlab_polimi](https://www.instagram.com/airlab_polimi/)\n",
        "\n",
        "##### Contributors:\n",
        "- **Eugenio Lomurno**: eugenio.lomurno@polimi.it\n",
        "\n",
        "```\n",
        "   Copyright 2024 Eugenio Lomurno\n",
        "\n",
        "   Licensed under the Apache License, Version 2.0 (the \"License\");\n",
        "   you may not use this file except in compliance with the License.\n",
        "   You may obtain a copy of the License at\n",
        "\n",
        "       http://www.apache.org/licenses/LICENSE-2.0\n",
        "\n",
        "   Unless required by applicable law or agreed to in writing, software\n",
        "   distributed under the License is distributed on an \"AS IS\" BASIS,\n",
        "   WITHOUT WARRANTIES OR CONDITIONS OF ANY KIND, either express or implied.\n",
        "   See the License for the specific language governing permissions and\n",
        "   limitations under the License.\n",
        "```"
      ],
      "metadata": {
        "id": "a9eapZ-3BsHo"
      }
    }
  ]
}